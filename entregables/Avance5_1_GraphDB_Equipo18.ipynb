{
 "cells": [
  {
   "cell_type": "markdown",
   "metadata": {},
   "source": [
    "## Maestría en Inteligencia Artificial Aplicada (MNA)\n",
    "### Proyecto Integrador\n",
    "### Dra. Grettel Barceló Alonso / Dr. Carlos Alberto Villaseñor Padilla\n",
    "### Avance 5. Implementación de la Base de Vectores y de Grafos final\n",
    "\n",
    "### Integrantes\n",
    "- A01794457 - Iossif Moises Palli Laura\n",
    "- A01793984 - Brenda Zurazy Rodríguez Pérez\n",
    "- A01794630 - Jesús Ramseths Echeverría Rivera"
   ]
  },
  {
   "cell_type": "code",
   "execution_count": 38,
   "metadata": {},
   "outputs": [
    {
     "data": {
      "text/plain": [
       "True"
      ]
     },
     "execution_count": 38,
     "metadata": {},
     "output_type": "execute_result"
    }
   ],
   "source": [
    "from langchain_community.vectorstores import SKLearnVectorStore, Neo4jVector\n",
    "from langchain.embeddings import HuggingFaceEmbeddings\n",
    "from langchain_community.document_loaders import PyPDFLoader\n",
    "from langchain.text_splitter import CharacterTextSplitter\n",
    "from langchain_experimental.graph_transformers import LLMGraphTransformer\n",
    "from langchain_community.graphs import Neo4jGraph\n",
    "from langchain.chat_models import ChatOpenAI\n",
    "import re\n",
    "from dotenv import load_dotenv\n",
    "import os\n",
    "load_dotenv()"
   ]
  },
  {
   "cell_type": "markdown",
   "metadata": {},
   "source": [
    "### 1. Carga y división de documentos"
   ]
  },
  {
   "cell_type": "code",
   "execution_count": 63,
   "metadata": {},
   "outputs": [],
   "source": [
    "name_files = ['Ley de Fondos de Inversión', 'Ley para Regular las Instituciones de Tecnología Financiera',\n",
    "              'Ley para Regular las Agrupaciones Financieras'] # Nombre de los archivos"
   ]
  },
  {
   "cell_type": "code",
   "execution_count": null,
   "metadata": {},
   "outputs": [],
   "source": [
    "# Aplicación de Separador delimitado a 500 fragmentos\n",
    "docs = []\n",
    "for file in name_files:\n",
    "    # Cargar un documento PDF y extraer sus páginas\n",
    "    loader = PyPDFLoader(f'../base/{file}.pdf', extract_images=False)\n",
    "    pages = loader.load()\n",
    "    # Dividir el texto en fragmentos más pequeños\n",
    "    text_splitter = CharacterTextSplitter.from_tiktoken_encoder(chunk_size=500)\n",
    "    tmp_docs = text_splitter.split_documents(pages)\n",
    "    docs.extend(tmp_docs)"
   ]
  },
  {
   "cell_type": "code",
   "execution_count": 65,
   "metadata": {},
   "outputs": [
    {
     "name": "stdout",
     "output_type": "stream",
     "text": [
      "Cantidad de Documentos: 311\n"
     ]
    }
   ],
   "source": [
    "print(f'Cantidad de Documentos: {len(docs)}')"
   ]
  },
  {
   "cell_type": "markdown",
   "metadata": {},
   "source": [
    "### 2. Preprocesamiento"
   ]
  },
  {
   "cell_type": "code",
   "execution_count": 66,
   "metadata": {},
   "outputs": [],
   "source": [
    "# Limpiar el texto de los documentos\n",
    "for doc in docs:\n",
    "    # Se elimina espacios y saltos de línea al inicio y al final\n",
    "    text = doc.page_content.strip()\n",
    "    text = text.replace('\\n', ' ')\n",
    "\n",
    "    # Se wliminan espacios duplicados\n",
    "    text = re.sub(r'[ \\t]+', ' ', text)\n",
    "\n",
    "    # Actualizar\n",
    "    doc.page_content = text\n",
    "\n",
    "# Filtrar documentos vacíos\n",
    "docs = [doc for doc in docs if doc.page_content.strip() != '']"
   ]
  },
  {
   "cell_type": "markdown",
   "metadata": {},
   "source": [
    "### 3. Creación de Base Vectorial"
   ]
  },
  {
   "cell_type": "code",
   "execution_count": 8,
   "metadata": {},
   "outputs": [],
   "source": [
    "# Se usa este modelo por ser ligero en cuestión de recursos computacionales\n",
    "embeddings = HuggingFaceEmbeddings(model_name=\"sentence-transformers/multi-qa-MiniLM-L6-cos-v1\")"
   ]
  },
  {
   "cell_type": "code",
   "execution_count": 20,
   "metadata": {},
   "outputs": [],
   "source": [
    "# Definir la ruta donde se guardarán los embeddings\n",
    "persist_path = \"../database/embeddings_db\"\n",
    "# Especificación de la VectorDB\n",
    "vector_store = SKLearnVectorStore.from_documents(\n",
    "    documents=docs,\n",
    "    embedding=embeddings,\n",
    "    persist_path=persist_path,\n",
    "    serializer=\"parquet\"\n",
    ")\n",
    "# Se crea la base\n",
    "vector_store.persist()"
   ]
  },
  {
   "cell_type": "markdown",
   "metadata": {},
   "source": [
    "### 4. Prueba de la Base Vectorial"
   ]
  },
  {
   "cell_type": "code",
   "execution_count": 21,
   "metadata": {},
   "outputs": [],
   "source": [
    "# Se manda un prompt y se hace la búsqueda por similitud del coseno\n",
    "prompt = \"¿En cuál fecha fue publicada la Ley de Fondos de Inversión?\"\n",
    "documents = vector_store.similarity_search(prompt)"
   ]
  },
  {
   "cell_type": "code",
   "execution_count": 23,
   "metadata": {},
   "outputs": [
    {
     "name": "stdout",
     "output_type": "stream",
     "text": [
      "Resultado: \n",
      "\n",
      "Para uso interno Para uso interno (3) LEY DE FONDOS DE INVERSIÓN Publicada en el Diario Oficial de la Federación el 4 de junio de 2001. Actualizada con las modificaciones publicadas en el propio Diario el 28 de junio de 2007, 10 d e enero y 13 de junio de 2014 , 20 de mayo de 2021 , 28 de diciembre de 2023 y 24 de enero de 2024.\n"
     ]
    }
   ],
   "source": [
    "print('Resultado: \\n')\n",
    "print(documents[0].page_content)"
   ]
  },
  {
   "cell_type": "markdown",
   "metadata": {},
   "source": [
    "### 5. Base de Grafos"
   ]
  },
  {
   "cell_type": "code",
   "execution_count": 13,
   "metadata": {},
   "outputs": [],
   "source": [
    "chat = ChatOpenAI(openai_api_key=os.environ['OPENAI_API_KEY'])"
   ]
  },
  {
   "cell_type": "code",
   "execution_count": 16,
   "metadata": {},
   "outputs": [],
   "source": [
    "# Se crea la conexión a la base de grafos en neo4j\n",
    "knowledge_graph = Neo4jGraph(\n",
    "    url=os.environ[\"NEO4J_URI\"],\n",
    "    username=os.environ[\"NEO4J_USERNAME\"],\n",
    "    password=os.environ[\"NEO4J_PASSWORD\"],\n",
    "    database=os.environ[\"NEO4J_DATABASE\"],\n",
    ")"
   ]
  },
  {
   "cell_type": "code",
   "execution_count": 34,
   "metadata": {},
   "outputs": [],
   "source": [
    "# Se crean las entidades y relaciones automáticamente\n",
    "llm_transformer = LLMGraphTransformer(llm=chat)\n",
    "graph_documents = llm_transformer.convert_to_graph_documents(docs)"
   ]
  },
  {
   "cell_type": "code",
   "execution_count": 36,
   "metadata": {},
   "outputs": [],
   "source": [
    "# Se almacenan los documentos en la base\n",
    "res = knowledge_graph.add_graph_documents(\n",
    "    graph_documents,\n",
    "    include_source = True,\n",
    "    baseEntityLabel = True,\n",
    ")"
   ]
  },
  {
   "cell_type": "code",
   "execution_count": 59,
   "metadata": {},
   "outputs": [],
   "source": [
    "# Se crean los embeddings dentro de la base\n",
    "existing_graph = Neo4jVector.from_existing_graph(\n",
    "    embedding=embeddings,\n",
    "    url=os.environ[\"NEO4J_URI\"],\n",
    "    username=os.environ[\"NEO4J_USERNAME\"],\n",
    "    password=os.environ[\"NEO4J_PASSWORD\"],\n",
    "    index_name=\"document_index\",\n",
    "    node_label=\"Document\",\n",
    "    text_node_properties=[\"text\"],\n",
    "    embedding_node_property=\"embedding\",\n",
    ")"
   ]
  }
 ],
 "metadata": {
  "kernelspec": {
   "display_name": "llama",
   "language": "python",
   "name": "python3"
  },
  "language_info": {
   "codemirror_mode": {
    "name": "ipython",
    "version": 3
   },
   "file_extension": ".py",
   "mimetype": "text/x-python",
   "name": "python",
   "nbconvert_exporter": "python",
   "pygments_lexer": "ipython3",
   "version": "3.10.15"
  }
 },
 "nbformat": 4,
 "nbformat_minor": 2
}
