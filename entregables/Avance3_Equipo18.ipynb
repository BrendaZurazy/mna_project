{
  "nbformat": 4,
  "nbformat_minor": 0,
  "metadata": {
    "colab": {
      "provenance": [],
      "gpuType": "L4"
    },
    "kernelspec": {
      "name": "python3",
      "display_name": "Python 3"
    },
    "language_info": {
      "name": "python"
    },
    "accelerator": "GPU",
    "widgets": {
      "application/vnd.jupyter.widget-state+json": {
        "371b242251ba4f87ad5c4dc1595e1d33": {
          "model_module": "@jupyter-widgets/controls",
          "model_name": "HBoxModel",
          "model_module_version": "1.5.0",
          "state": {
            "_dom_classes": [],
            "_model_module": "@jupyter-widgets/controls",
            "_model_module_version": "1.5.0",
            "_model_name": "HBoxModel",
            "_view_count": null,
            "_view_module": "@jupyter-widgets/controls",
            "_view_module_version": "1.5.0",
            "_view_name": "HBoxView",
            "box_style": "",
            "children": [
              "IPY_MODEL_cf57e0a351854e63aebeb4f59eea2909",
              "IPY_MODEL_dddce01ccdf140d781414bd51bc68814",
              "IPY_MODEL_9e1bcb32c5354aa3843d004e5c056947"
            ],
            "layout": "IPY_MODEL_77ff8581a9894b60b0a018f7298af7d6"
          }
        },
        "cf57e0a351854e63aebeb4f59eea2909": {
          "model_module": "@jupyter-widgets/controls",
          "model_name": "HTMLModel",
          "model_module_version": "1.5.0",
          "state": {
            "_dom_classes": [],
            "_model_module": "@jupyter-widgets/controls",
            "_model_module_version": "1.5.0",
            "_model_name": "HTMLModel",
            "_view_count": null,
            "_view_module": "@jupyter-widgets/controls",
            "_view_module_version": "1.5.0",
            "_view_name": "HTMLView",
            "description": "",
            "description_tooltip": null,
            "layout": "IPY_MODEL_f3c22ecd74f74e84b40ba9152acc011f",
            "placeholder": "​",
            "style": "IPY_MODEL_f478d44dfa2342f3b5632b33c755fdd3",
            "value": "Loading checkpoint shards: 100%"
          }
        },
        "dddce01ccdf140d781414bd51bc68814": {
          "model_module": "@jupyter-widgets/controls",
          "model_name": "FloatProgressModel",
          "model_module_version": "1.5.0",
          "state": {
            "_dom_classes": [],
            "_model_module": "@jupyter-widgets/controls",
            "_model_module_version": "1.5.0",
            "_model_name": "FloatProgressModel",
            "_view_count": null,
            "_view_module": "@jupyter-widgets/controls",
            "_view_module_version": "1.5.0",
            "_view_name": "ProgressView",
            "bar_style": "success",
            "description": "",
            "description_tooltip": null,
            "layout": "IPY_MODEL_eeacd6b3d6ef493aa53f48465637a950",
            "max": 2,
            "min": 0,
            "orientation": "horizontal",
            "style": "IPY_MODEL_274ba22fa84041cebb863ae8872a5fb7",
            "value": 2
          }
        },
        "9e1bcb32c5354aa3843d004e5c056947": {
          "model_module": "@jupyter-widgets/controls",
          "model_name": "HTMLModel",
          "model_module_version": "1.5.0",
          "state": {
            "_dom_classes": [],
            "_model_module": "@jupyter-widgets/controls",
            "_model_module_version": "1.5.0",
            "_model_name": "HTMLModel",
            "_view_count": null,
            "_view_module": "@jupyter-widgets/controls",
            "_view_module_version": "1.5.0",
            "_view_name": "HTMLView",
            "description": "",
            "description_tooltip": null,
            "layout": "IPY_MODEL_60c8bd995a2f4d088ee001f4ccfbbecc",
            "placeholder": "​",
            "style": "IPY_MODEL_1cce2afafa4a46c2944816d22b41516f",
            "value": " 2/2 [00:03&lt;00:00,  1.81s/it]"
          }
        },
        "77ff8581a9894b60b0a018f7298af7d6": {
          "model_module": "@jupyter-widgets/base",
          "model_name": "LayoutModel",
          "model_module_version": "1.2.0",
          "state": {
            "_model_module": "@jupyter-widgets/base",
            "_model_module_version": "1.2.0",
            "_model_name": "LayoutModel",
            "_view_count": null,
            "_view_module": "@jupyter-widgets/base",
            "_view_module_version": "1.2.0",
            "_view_name": "LayoutView",
            "align_content": null,
            "align_items": null,
            "align_self": null,
            "border": null,
            "bottom": null,
            "display": null,
            "flex": null,
            "flex_flow": null,
            "grid_area": null,
            "grid_auto_columns": null,
            "grid_auto_flow": null,
            "grid_auto_rows": null,
            "grid_column": null,
            "grid_gap": null,
            "grid_row": null,
            "grid_template_areas": null,
            "grid_template_columns": null,
            "grid_template_rows": null,
            "height": null,
            "justify_content": null,
            "justify_items": null,
            "left": null,
            "margin": null,
            "max_height": null,
            "max_width": null,
            "min_height": null,
            "min_width": null,
            "object_fit": null,
            "object_position": null,
            "order": null,
            "overflow": null,
            "overflow_x": null,
            "overflow_y": null,
            "padding": null,
            "right": null,
            "top": null,
            "visibility": null,
            "width": null
          }
        },
        "f3c22ecd74f74e84b40ba9152acc011f": {
          "model_module": "@jupyter-widgets/base",
          "model_name": "LayoutModel",
          "model_module_version": "1.2.0",
          "state": {
            "_model_module": "@jupyter-widgets/base",
            "_model_module_version": "1.2.0",
            "_model_name": "LayoutModel",
            "_view_count": null,
            "_view_module": "@jupyter-widgets/base",
            "_view_module_version": "1.2.0",
            "_view_name": "LayoutView",
            "align_content": null,
            "align_items": null,
            "align_self": null,
            "border": null,
            "bottom": null,
            "display": null,
            "flex": null,
            "flex_flow": null,
            "grid_area": null,
            "grid_auto_columns": null,
            "grid_auto_flow": null,
            "grid_auto_rows": null,
            "grid_column": null,
            "grid_gap": null,
            "grid_row": null,
            "grid_template_areas": null,
            "grid_template_columns": null,
            "grid_template_rows": null,
            "height": null,
            "justify_content": null,
            "justify_items": null,
            "left": null,
            "margin": null,
            "max_height": null,
            "max_width": null,
            "min_height": null,
            "min_width": null,
            "object_fit": null,
            "object_position": null,
            "order": null,
            "overflow": null,
            "overflow_x": null,
            "overflow_y": null,
            "padding": null,
            "right": null,
            "top": null,
            "visibility": null,
            "width": null
          }
        },
        "f478d44dfa2342f3b5632b33c755fdd3": {
          "model_module": "@jupyter-widgets/controls",
          "model_name": "DescriptionStyleModel",
          "model_module_version": "1.5.0",
          "state": {
            "_model_module": "@jupyter-widgets/controls",
            "_model_module_version": "1.5.0",
            "_model_name": "DescriptionStyleModel",
            "_view_count": null,
            "_view_module": "@jupyter-widgets/base",
            "_view_module_version": "1.2.0",
            "_view_name": "StyleView",
            "description_width": ""
          }
        },
        "eeacd6b3d6ef493aa53f48465637a950": {
          "model_module": "@jupyter-widgets/base",
          "model_name": "LayoutModel",
          "model_module_version": "1.2.0",
          "state": {
            "_model_module": "@jupyter-widgets/base",
            "_model_module_version": "1.2.0",
            "_model_name": "LayoutModel",
            "_view_count": null,
            "_view_module": "@jupyter-widgets/base",
            "_view_module_version": "1.2.0",
            "_view_name": "LayoutView",
            "align_content": null,
            "align_items": null,
            "align_self": null,
            "border": null,
            "bottom": null,
            "display": null,
            "flex": null,
            "flex_flow": null,
            "grid_area": null,
            "grid_auto_columns": null,
            "grid_auto_flow": null,
            "grid_auto_rows": null,
            "grid_column": null,
            "grid_gap": null,
            "grid_row": null,
            "grid_template_areas": null,
            "grid_template_columns": null,
            "grid_template_rows": null,
            "height": null,
            "justify_content": null,
            "justify_items": null,
            "left": null,
            "margin": null,
            "max_height": null,
            "max_width": null,
            "min_height": null,
            "min_width": null,
            "object_fit": null,
            "object_position": null,
            "order": null,
            "overflow": null,
            "overflow_x": null,
            "overflow_y": null,
            "padding": null,
            "right": null,
            "top": null,
            "visibility": null,
            "width": null
          }
        },
        "274ba22fa84041cebb863ae8872a5fb7": {
          "model_module": "@jupyter-widgets/controls",
          "model_name": "ProgressStyleModel",
          "model_module_version": "1.5.0",
          "state": {
            "_model_module": "@jupyter-widgets/controls",
            "_model_module_version": "1.5.0",
            "_model_name": "ProgressStyleModel",
            "_view_count": null,
            "_view_module": "@jupyter-widgets/base",
            "_view_module_version": "1.2.0",
            "_view_name": "StyleView",
            "bar_color": null,
            "description_width": ""
          }
        },
        "60c8bd995a2f4d088ee001f4ccfbbecc": {
          "model_module": "@jupyter-widgets/base",
          "model_name": "LayoutModel",
          "model_module_version": "1.2.0",
          "state": {
            "_model_module": "@jupyter-widgets/base",
            "_model_module_version": "1.2.0",
            "_model_name": "LayoutModel",
            "_view_count": null,
            "_view_module": "@jupyter-widgets/base",
            "_view_module_version": "1.2.0",
            "_view_name": "LayoutView",
            "align_content": null,
            "align_items": null,
            "align_self": null,
            "border": null,
            "bottom": null,
            "display": null,
            "flex": null,
            "flex_flow": null,
            "grid_area": null,
            "grid_auto_columns": null,
            "grid_auto_flow": null,
            "grid_auto_rows": null,
            "grid_column": null,
            "grid_gap": null,
            "grid_row": null,
            "grid_template_areas": null,
            "grid_template_columns": null,
            "grid_template_rows": null,
            "height": null,
            "justify_content": null,
            "justify_items": null,
            "left": null,
            "margin": null,
            "max_height": null,
            "max_width": null,
            "min_height": null,
            "min_width": null,
            "object_fit": null,
            "object_position": null,
            "order": null,
            "overflow": null,
            "overflow_x": null,
            "overflow_y": null,
            "padding": null,
            "right": null,
            "top": null,
            "visibility": null,
            "width": null
          }
        },
        "1cce2afafa4a46c2944816d22b41516f": {
          "model_module": "@jupyter-widgets/controls",
          "model_name": "DescriptionStyleModel",
          "model_module_version": "1.5.0",
          "state": {
            "_model_module": "@jupyter-widgets/controls",
            "_model_module_version": "1.5.0",
            "_model_name": "DescriptionStyleModel",
            "_view_count": null,
            "_view_module": "@jupyter-widgets/base",
            "_view_module_version": "1.2.0",
            "_view_name": "StyleView",
            "description_width": ""
          }
        },
        "66fc9166c41849c7a4a60b19fc72817c": {
          "model_module": "@jupyter-widgets/controls",
          "model_name": "HBoxModel",
          "model_module_version": "1.5.0",
          "state": {
            "_dom_classes": [],
            "_model_module": "@jupyter-widgets/controls",
            "_model_module_version": "1.5.0",
            "_model_name": "HBoxModel",
            "_view_count": null,
            "_view_module": "@jupyter-widgets/controls",
            "_view_module_version": "1.5.0",
            "_view_name": "HBoxView",
            "box_style": "",
            "children": [
              "IPY_MODEL_fe9b919650734480a53639d55887407d",
              "IPY_MODEL_61426cd39f0d44ecba7203ad0741e23a",
              "IPY_MODEL_620edac77ab44ce6b3a099bf6dc3b6eb"
            ],
            "layout": "IPY_MODEL_701b2a4b743b4d7a85e1c576092d931d"
          }
        },
        "fe9b919650734480a53639d55887407d": {
          "model_module": "@jupyter-widgets/controls",
          "model_name": "HTMLModel",
          "model_module_version": "1.5.0",
          "state": {
            "_dom_classes": [],
            "_model_module": "@jupyter-widgets/controls",
            "_model_module_version": "1.5.0",
            "_model_name": "HTMLModel",
            "_view_count": null,
            "_view_module": "@jupyter-widgets/controls",
            "_view_module_version": "1.5.0",
            "_view_name": "HTMLView",
            "description": "",
            "description_tooltip": null,
            "layout": "IPY_MODEL_c4ac2f64f79d4deca959d2bab48822db",
            "placeholder": "​",
            "style": "IPY_MODEL_e72ce829580547848ccc928b8ff37442",
            "value": "Map: 100%"
          }
        },
        "61426cd39f0d44ecba7203ad0741e23a": {
          "model_module": "@jupyter-widgets/controls",
          "model_name": "FloatProgressModel",
          "model_module_version": "1.5.0",
          "state": {
            "_dom_classes": [],
            "_model_module": "@jupyter-widgets/controls",
            "_model_module_version": "1.5.0",
            "_model_name": "FloatProgressModel",
            "_view_count": null,
            "_view_module": "@jupyter-widgets/controls",
            "_view_module_version": "1.5.0",
            "_view_name": "ProgressView",
            "bar_style": "success",
            "description": "",
            "description_tooltip": null,
            "layout": "IPY_MODEL_ba347bd5a0194a429660e1169939a282",
            "max": 914,
            "min": 0,
            "orientation": "horizontal",
            "style": "IPY_MODEL_6a48926e97484464bb7f4dc038b4f4dc",
            "value": 914
          }
        },
        "620edac77ab44ce6b3a099bf6dc3b6eb": {
          "model_module": "@jupyter-widgets/controls",
          "model_name": "HTMLModel",
          "model_module_version": "1.5.0",
          "state": {
            "_dom_classes": [],
            "_model_module": "@jupyter-widgets/controls",
            "_model_module_version": "1.5.0",
            "_model_name": "HTMLModel",
            "_view_count": null,
            "_view_module": "@jupyter-widgets/controls",
            "_view_module_version": "1.5.0",
            "_view_name": "HTMLView",
            "description": "",
            "description_tooltip": null,
            "layout": "IPY_MODEL_764d839d1f3d49c1b4f1d5f99034ecc4",
            "placeholder": "​",
            "style": "IPY_MODEL_54839af3906b4f1cad8b9457b70177da",
            "value": " 914/914 [00:00&lt;00:00, 1047.66 examples/s]"
          }
        },
        "701b2a4b743b4d7a85e1c576092d931d": {
          "model_module": "@jupyter-widgets/base",
          "model_name": "LayoutModel",
          "model_module_version": "1.2.0",
          "state": {
            "_model_module": "@jupyter-widgets/base",
            "_model_module_version": "1.2.0",
            "_model_name": "LayoutModel",
            "_view_count": null,
            "_view_module": "@jupyter-widgets/base",
            "_view_module_version": "1.2.0",
            "_view_name": "LayoutView",
            "align_content": null,
            "align_items": null,
            "align_self": null,
            "border": null,
            "bottom": null,
            "display": null,
            "flex": null,
            "flex_flow": null,
            "grid_area": null,
            "grid_auto_columns": null,
            "grid_auto_flow": null,
            "grid_auto_rows": null,
            "grid_column": null,
            "grid_gap": null,
            "grid_row": null,
            "grid_template_areas": null,
            "grid_template_columns": null,
            "grid_template_rows": null,
            "height": null,
            "justify_content": null,
            "justify_items": null,
            "left": null,
            "margin": null,
            "max_height": null,
            "max_width": null,
            "min_height": null,
            "min_width": null,
            "object_fit": null,
            "object_position": null,
            "order": null,
            "overflow": null,
            "overflow_x": null,
            "overflow_y": null,
            "padding": null,
            "right": null,
            "top": null,
            "visibility": null,
            "width": null
          }
        },
        "c4ac2f64f79d4deca959d2bab48822db": {
          "model_module": "@jupyter-widgets/base",
          "model_name": "LayoutModel",
          "model_module_version": "1.2.0",
          "state": {
            "_model_module": "@jupyter-widgets/base",
            "_model_module_version": "1.2.0",
            "_model_name": "LayoutModel",
            "_view_count": null,
            "_view_module": "@jupyter-widgets/base",
            "_view_module_version": "1.2.0",
            "_view_name": "LayoutView",
            "align_content": null,
            "align_items": null,
            "align_self": null,
            "border": null,
            "bottom": null,
            "display": null,
            "flex": null,
            "flex_flow": null,
            "grid_area": null,
            "grid_auto_columns": null,
            "grid_auto_flow": null,
            "grid_auto_rows": null,
            "grid_column": null,
            "grid_gap": null,
            "grid_row": null,
            "grid_template_areas": null,
            "grid_template_columns": null,
            "grid_template_rows": null,
            "height": null,
            "justify_content": null,
            "justify_items": null,
            "left": null,
            "margin": null,
            "max_height": null,
            "max_width": null,
            "min_height": null,
            "min_width": null,
            "object_fit": null,
            "object_position": null,
            "order": null,
            "overflow": null,
            "overflow_x": null,
            "overflow_y": null,
            "padding": null,
            "right": null,
            "top": null,
            "visibility": null,
            "width": null
          }
        },
        "e72ce829580547848ccc928b8ff37442": {
          "model_module": "@jupyter-widgets/controls",
          "model_name": "DescriptionStyleModel",
          "model_module_version": "1.5.0",
          "state": {
            "_model_module": "@jupyter-widgets/controls",
            "_model_module_version": "1.5.0",
            "_model_name": "DescriptionStyleModel",
            "_view_count": null,
            "_view_module": "@jupyter-widgets/base",
            "_view_module_version": "1.2.0",
            "_view_name": "StyleView",
            "description_width": ""
          }
        },
        "ba347bd5a0194a429660e1169939a282": {
          "model_module": "@jupyter-widgets/base",
          "model_name": "LayoutModel",
          "model_module_version": "1.2.0",
          "state": {
            "_model_module": "@jupyter-widgets/base",
            "_model_module_version": "1.2.0",
            "_model_name": "LayoutModel",
            "_view_count": null,
            "_view_module": "@jupyter-widgets/base",
            "_view_module_version": "1.2.0",
            "_view_name": "LayoutView",
            "align_content": null,
            "align_items": null,
            "align_self": null,
            "border": null,
            "bottom": null,
            "display": null,
            "flex": null,
            "flex_flow": null,
            "grid_area": null,
            "grid_auto_columns": null,
            "grid_auto_flow": null,
            "grid_auto_rows": null,
            "grid_column": null,
            "grid_gap": null,
            "grid_row": null,
            "grid_template_areas": null,
            "grid_template_columns": null,
            "grid_template_rows": null,
            "height": null,
            "justify_content": null,
            "justify_items": null,
            "left": null,
            "margin": null,
            "max_height": null,
            "max_width": null,
            "min_height": null,
            "min_width": null,
            "object_fit": null,
            "object_position": null,
            "order": null,
            "overflow": null,
            "overflow_x": null,
            "overflow_y": null,
            "padding": null,
            "right": null,
            "top": null,
            "visibility": null,
            "width": null
          }
        },
        "6a48926e97484464bb7f4dc038b4f4dc": {
          "model_module": "@jupyter-widgets/controls",
          "model_name": "ProgressStyleModel",
          "model_module_version": "1.5.0",
          "state": {
            "_model_module": "@jupyter-widgets/controls",
            "_model_module_version": "1.5.0",
            "_model_name": "ProgressStyleModel",
            "_view_count": null,
            "_view_module": "@jupyter-widgets/base",
            "_view_module_version": "1.2.0",
            "_view_name": "StyleView",
            "bar_color": null,
            "description_width": ""
          }
        },
        "764d839d1f3d49c1b4f1d5f99034ecc4": {
          "model_module": "@jupyter-widgets/base",
          "model_name": "LayoutModel",
          "model_module_version": "1.2.0",
          "state": {
            "_model_module": "@jupyter-widgets/base",
            "_model_module_version": "1.2.0",
            "_model_name": "LayoutModel",
            "_view_count": null,
            "_view_module": "@jupyter-widgets/base",
            "_view_module_version": "1.2.0",
            "_view_name": "LayoutView",
            "align_content": null,
            "align_items": null,
            "align_self": null,
            "border": null,
            "bottom": null,
            "display": null,
            "flex": null,
            "flex_flow": null,
            "grid_area": null,
            "grid_auto_columns": null,
            "grid_auto_flow": null,
            "grid_auto_rows": null,
            "grid_column": null,
            "grid_gap": null,
            "grid_row": null,
            "grid_template_areas": null,
            "grid_template_columns": null,
            "grid_template_rows": null,
            "height": null,
            "justify_content": null,
            "justify_items": null,
            "left": null,
            "margin": null,
            "max_height": null,
            "max_width": null,
            "min_height": null,
            "min_width": null,
            "object_fit": null,
            "object_position": null,
            "order": null,
            "overflow": null,
            "overflow_x": null,
            "overflow_y": null,
            "padding": null,
            "right": null,
            "top": null,
            "visibility": null,
            "width": null
          }
        },
        "54839af3906b4f1cad8b9457b70177da": {
          "model_module": "@jupyter-widgets/controls",
          "model_name": "DescriptionStyleModel",
          "model_module_version": "1.5.0",
          "state": {
            "_model_module": "@jupyter-widgets/controls",
            "_model_module_version": "1.5.0",
            "_model_name": "DescriptionStyleModel",
            "_view_count": null,
            "_view_module": "@jupyter-widgets/base",
            "_view_module_version": "1.2.0",
            "_view_name": "StyleView",
            "description_width": ""
          }
        },
        "15825df1d0784bf2bb778300ece6afff": {
          "model_module": "@jupyter-widgets/controls",
          "model_name": "HBoxModel",
          "model_module_version": "1.5.0",
          "state": {
            "_dom_classes": [],
            "_model_module": "@jupyter-widgets/controls",
            "_model_module_version": "1.5.0",
            "_model_name": "HBoxModel",
            "_view_count": null,
            "_view_module": "@jupyter-widgets/controls",
            "_view_module_version": "1.5.0",
            "_view_name": "HBoxView",
            "box_style": "",
            "children": [
              "IPY_MODEL_146fc1d760e54b7a993e32f1d48e6ab3",
              "IPY_MODEL_f26e667a38f94a4b9c869ba58d1fc8aa",
              "IPY_MODEL_bdf60d0022814389b315cdf9691d81be"
            ],
            "layout": "IPY_MODEL_7b007b26f06a4a3dbb254387586a1113"
          }
        },
        "146fc1d760e54b7a993e32f1d48e6ab3": {
          "model_module": "@jupyter-widgets/controls",
          "model_name": "HTMLModel",
          "model_module_version": "1.5.0",
          "state": {
            "_dom_classes": [],
            "_model_module": "@jupyter-widgets/controls",
            "_model_module_version": "1.5.0",
            "_model_name": "HTMLModel",
            "_view_count": null,
            "_view_module": "@jupyter-widgets/controls",
            "_view_module_version": "1.5.0",
            "_view_name": "HTMLView",
            "description": "",
            "description_tooltip": null,
            "layout": "IPY_MODEL_eebd42e3da0e4992bc893f9056eb1318",
            "placeholder": "​",
            "style": "IPY_MODEL_93f57a7a688d48e4bfc857d1f64fdf26",
            "value": "Map: 100%"
          }
        },
        "f26e667a38f94a4b9c869ba58d1fc8aa": {
          "model_module": "@jupyter-widgets/controls",
          "model_name": "FloatProgressModel",
          "model_module_version": "1.5.0",
          "state": {
            "_dom_classes": [],
            "_model_module": "@jupyter-widgets/controls",
            "_model_module_version": "1.5.0",
            "_model_name": "FloatProgressModel",
            "_view_count": null,
            "_view_module": "@jupyter-widgets/controls",
            "_view_module_version": "1.5.0",
            "_view_name": "ProgressView",
            "bar_style": "success",
            "description": "",
            "description_tooltip": null,
            "layout": "IPY_MODEL_0559edbd11c8435091113431cda64310",
            "max": 229,
            "min": 0,
            "orientation": "horizontal",
            "style": "IPY_MODEL_2914ba3fb613413c89a879c7614a21ed",
            "value": 229
          }
        },
        "bdf60d0022814389b315cdf9691d81be": {
          "model_module": "@jupyter-widgets/controls",
          "model_name": "HTMLModel",
          "model_module_version": "1.5.0",
          "state": {
            "_dom_classes": [],
            "_model_module": "@jupyter-widgets/controls",
            "_model_module_version": "1.5.0",
            "_model_name": "HTMLModel",
            "_view_count": null,
            "_view_module": "@jupyter-widgets/controls",
            "_view_module_version": "1.5.0",
            "_view_name": "HTMLView",
            "description": "",
            "description_tooltip": null,
            "layout": "IPY_MODEL_814e2fe7e640482ab998219f1d2ba9c6",
            "placeholder": "​",
            "style": "IPY_MODEL_2949bf7bc15042408f732688e3b16a3f",
            "value": " 229/229 [00:00&lt;00:00, 1536.46 examples/s]"
          }
        },
        "7b007b26f06a4a3dbb254387586a1113": {
          "model_module": "@jupyter-widgets/base",
          "model_name": "LayoutModel",
          "model_module_version": "1.2.0",
          "state": {
            "_model_module": "@jupyter-widgets/base",
            "_model_module_version": "1.2.0",
            "_model_name": "LayoutModel",
            "_view_count": null,
            "_view_module": "@jupyter-widgets/base",
            "_view_module_version": "1.2.0",
            "_view_name": "LayoutView",
            "align_content": null,
            "align_items": null,
            "align_self": null,
            "border": null,
            "bottom": null,
            "display": null,
            "flex": null,
            "flex_flow": null,
            "grid_area": null,
            "grid_auto_columns": null,
            "grid_auto_flow": null,
            "grid_auto_rows": null,
            "grid_column": null,
            "grid_gap": null,
            "grid_row": null,
            "grid_template_areas": null,
            "grid_template_columns": null,
            "grid_template_rows": null,
            "height": null,
            "justify_content": null,
            "justify_items": null,
            "left": null,
            "margin": null,
            "max_height": null,
            "max_width": null,
            "min_height": null,
            "min_width": null,
            "object_fit": null,
            "object_position": null,
            "order": null,
            "overflow": null,
            "overflow_x": null,
            "overflow_y": null,
            "padding": null,
            "right": null,
            "top": null,
            "visibility": null,
            "width": null
          }
        },
        "eebd42e3da0e4992bc893f9056eb1318": {
          "model_module": "@jupyter-widgets/base",
          "model_name": "LayoutModel",
          "model_module_version": "1.2.0",
          "state": {
            "_model_module": "@jupyter-widgets/base",
            "_model_module_version": "1.2.0",
            "_model_name": "LayoutModel",
            "_view_count": null,
            "_view_module": "@jupyter-widgets/base",
            "_view_module_version": "1.2.0",
            "_view_name": "LayoutView",
            "align_content": null,
            "align_items": null,
            "align_self": null,
            "border": null,
            "bottom": null,
            "display": null,
            "flex": null,
            "flex_flow": null,
            "grid_area": null,
            "grid_auto_columns": null,
            "grid_auto_flow": null,
            "grid_auto_rows": null,
            "grid_column": null,
            "grid_gap": null,
            "grid_row": null,
            "grid_template_areas": null,
            "grid_template_columns": null,
            "grid_template_rows": null,
            "height": null,
            "justify_content": null,
            "justify_items": null,
            "left": null,
            "margin": null,
            "max_height": null,
            "max_width": null,
            "min_height": null,
            "min_width": null,
            "object_fit": null,
            "object_position": null,
            "order": null,
            "overflow": null,
            "overflow_x": null,
            "overflow_y": null,
            "padding": null,
            "right": null,
            "top": null,
            "visibility": null,
            "width": null
          }
        },
        "93f57a7a688d48e4bfc857d1f64fdf26": {
          "model_module": "@jupyter-widgets/controls",
          "model_name": "DescriptionStyleModel",
          "model_module_version": "1.5.0",
          "state": {
            "_model_module": "@jupyter-widgets/controls",
            "_model_module_version": "1.5.0",
            "_model_name": "DescriptionStyleModel",
            "_view_count": null,
            "_view_module": "@jupyter-widgets/base",
            "_view_module_version": "1.2.0",
            "_view_name": "StyleView",
            "description_width": ""
          }
        },
        "0559edbd11c8435091113431cda64310": {
          "model_module": "@jupyter-widgets/base",
          "model_name": "LayoutModel",
          "model_module_version": "1.2.0",
          "state": {
            "_model_module": "@jupyter-widgets/base",
            "_model_module_version": "1.2.0",
            "_model_name": "LayoutModel",
            "_view_count": null,
            "_view_module": "@jupyter-widgets/base",
            "_view_module_version": "1.2.0",
            "_view_name": "LayoutView",
            "align_content": null,
            "align_items": null,
            "align_self": null,
            "border": null,
            "bottom": null,
            "display": null,
            "flex": null,
            "flex_flow": null,
            "grid_area": null,
            "grid_auto_columns": null,
            "grid_auto_flow": null,
            "grid_auto_rows": null,
            "grid_column": null,
            "grid_gap": null,
            "grid_row": null,
            "grid_template_areas": null,
            "grid_template_columns": null,
            "grid_template_rows": null,
            "height": null,
            "justify_content": null,
            "justify_items": null,
            "left": null,
            "margin": null,
            "max_height": null,
            "max_width": null,
            "min_height": null,
            "min_width": null,
            "object_fit": null,
            "object_position": null,
            "order": null,
            "overflow": null,
            "overflow_x": null,
            "overflow_y": null,
            "padding": null,
            "right": null,
            "top": null,
            "visibility": null,
            "width": null
          }
        },
        "2914ba3fb613413c89a879c7614a21ed": {
          "model_module": "@jupyter-widgets/controls",
          "model_name": "ProgressStyleModel",
          "model_module_version": "1.5.0",
          "state": {
            "_model_module": "@jupyter-widgets/controls",
            "_model_module_version": "1.5.0",
            "_model_name": "ProgressStyleModel",
            "_view_count": null,
            "_view_module": "@jupyter-widgets/base",
            "_view_module_version": "1.2.0",
            "_view_name": "StyleView",
            "bar_color": null,
            "description_width": ""
          }
        },
        "814e2fe7e640482ab998219f1d2ba9c6": {
          "model_module": "@jupyter-widgets/base",
          "model_name": "LayoutModel",
          "model_module_version": "1.2.0",
          "state": {
            "_model_module": "@jupyter-widgets/base",
            "_model_module_version": "1.2.0",
            "_model_name": "LayoutModel",
            "_view_count": null,
            "_view_module": "@jupyter-widgets/base",
            "_view_module_version": "1.2.0",
            "_view_name": "LayoutView",
            "align_content": null,
            "align_items": null,
            "align_self": null,
            "border": null,
            "bottom": null,
            "display": null,
            "flex": null,
            "flex_flow": null,
            "grid_area": null,
            "grid_auto_columns": null,
            "grid_auto_flow": null,
            "grid_auto_rows": null,
            "grid_column": null,
            "grid_gap": null,
            "grid_row": null,
            "grid_template_areas": null,
            "grid_template_columns": null,
            "grid_template_rows": null,
            "height": null,
            "justify_content": null,
            "justify_items": null,
            "left": null,
            "margin": null,
            "max_height": null,
            "max_width": null,
            "min_height": null,
            "min_width": null,
            "object_fit": null,
            "object_position": null,
            "order": null,
            "overflow": null,
            "overflow_x": null,
            "overflow_y": null,
            "padding": null,
            "right": null,
            "top": null,
            "visibility": null,
            "width": null
          }
        },
        "2949bf7bc15042408f732688e3b16a3f": {
          "model_module": "@jupyter-widgets/controls",
          "model_name": "DescriptionStyleModel",
          "model_module_version": "1.5.0",
          "state": {
            "_model_module": "@jupyter-widgets/controls",
            "_model_module_version": "1.5.0",
            "_model_name": "DescriptionStyleModel",
            "_view_count": null,
            "_view_module": "@jupyter-widgets/base",
            "_view_module_version": "1.2.0",
            "_view_name": "StyleView",
            "description_width": ""
          }
        },
        "cd83907688f84a12a498a7a53928f1c0": {
          "model_module": "@jupyter-widgets/controls",
          "model_name": "HBoxModel",
          "model_module_version": "1.5.0",
          "state": {
            "_dom_classes": [],
            "_model_module": "@jupyter-widgets/controls",
            "_model_module_version": "1.5.0",
            "_model_name": "HBoxModel",
            "_view_count": null,
            "_view_module": "@jupyter-widgets/controls",
            "_view_module_version": "1.5.0",
            "_view_name": "HBoxView",
            "box_style": "",
            "children": [
              "IPY_MODEL_88c5ecc9d50446d8b9e3379d62999a08",
              "IPY_MODEL_c22ab575a6c24cf9992a2fc930bccea5",
              "IPY_MODEL_a71081c5139d4855adc7b17640c85ce1"
            ],
            "layout": "IPY_MODEL_21388ff6a9e942f094993d0411e610f6"
          }
        },
        "88c5ecc9d50446d8b9e3379d62999a08": {
          "model_module": "@jupyter-widgets/controls",
          "model_name": "HTMLModel",
          "model_module_version": "1.5.0",
          "state": {
            "_dom_classes": [],
            "_model_module": "@jupyter-widgets/controls",
            "_model_module_version": "1.5.0",
            "_model_name": "HTMLModel",
            "_view_count": null,
            "_view_module": "@jupyter-widgets/controls",
            "_view_module_version": "1.5.0",
            "_view_name": "HTMLView",
            "description": "",
            "description_tooltip": null,
            "layout": "IPY_MODEL_9791f3564afc4bf19bd32d01c5f85668",
            "placeholder": "​",
            "style": "IPY_MODEL_0dea067c1b20474693e1a69fea17ab59",
            "value": "Loading checkpoint shards: 100%"
          }
        },
        "c22ab575a6c24cf9992a2fc930bccea5": {
          "model_module": "@jupyter-widgets/controls",
          "model_name": "FloatProgressModel",
          "model_module_version": "1.5.0",
          "state": {
            "_dom_classes": [],
            "_model_module": "@jupyter-widgets/controls",
            "_model_module_version": "1.5.0",
            "_model_name": "FloatProgressModel",
            "_view_count": null,
            "_view_module": "@jupyter-widgets/controls",
            "_view_module_version": "1.5.0",
            "_view_name": "ProgressView",
            "bar_style": "success",
            "description": "",
            "description_tooltip": null,
            "layout": "IPY_MODEL_04d4aeee13f949388583823373f2776f",
            "max": 2,
            "min": 0,
            "orientation": "horizontal",
            "style": "IPY_MODEL_8fe758a92806466990c80d4c13f24365",
            "value": 2
          }
        },
        "a71081c5139d4855adc7b17640c85ce1": {
          "model_module": "@jupyter-widgets/controls",
          "model_name": "HTMLModel",
          "model_module_version": "1.5.0",
          "state": {
            "_dom_classes": [],
            "_model_module": "@jupyter-widgets/controls",
            "_model_module_version": "1.5.0",
            "_model_name": "HTMLModel",
            "_view_count": null,
            "_view_module": "@jupyter-widgets/controls",
            "_view_module_version": "1.5.0",
            "_view_name": "HTMLView",
            "description": "",
            "description_tooltip": null,
            "layout": "IPY_MODEL_0aa36b99721c4289b340dc119a131b63",
            "placeholder": "​",
            "style": "IPY_MODEL_39e13cd0db0a46178d22ef332556d2f1",
            "value": " 2/2 [00:04&lt;00:00,  1.87s/it]"
          }
        },
        "21388ff6a9e942f094993d0411e610f6": {
          "model_module": "@jupyter-widgets/base",
          "model_name": "LayoutModel",
          "model_module_version": "1.2.0",
          "state": {
            "_model_module": "@jupyter-widgets/base",
            "_model_module_version": "1.2.0",
            "_model_name": "LayoutModel",
            "_view_count": null,
            "_view_module": "@jupyter-widgets/base",
            "_view_module_version": "1.2.0",
            "_view_name": "LayoutView",
            "align_content": null,
            "align_items": null,
            "align_self": null,
            "border": null,
            "bottom": null,
            "display": null,
            "flex": null,
            "flex_flow": null,
            "grid_area": null,
            "grid_auto_columns": null,
            "grid_auto_flow": null,
            "grid_auto_rows": null,
            "grid_column": null,
            "grid_gap": null,
            "grid_row": null,
            "grid_template_areas": null,
            "grid_template_columns": null,
            "grid_template_rows": null,
            "height": null,
            "justify_content": null,
            "justify_items": null,
            "left": null,
            "margin": null,
            "max_height": null,
            "max_width": null,
            "min_height": null,
            "min_width": null,
            "object_fit": null,
            "object_position": null,
            "order": null,
            "overflow": null,
            "overflow_x": null,
            "overflow_y": null,
            "padding": null,
            "right": null,
            "top": null,
            "visibility": null,
            "width": null
          }
        },
        "9791f3564afc4bf19bd32d01c5f85668": {
          "model_module": "@jupyter-widgets/base",
          "model_name": "LayoutModel",
          "model_module_version": "1.2.0",
          "state": {
            "_model_module": "@jupyter-widgets/base",
            "_model_module_version": "1.2.0",
            "_model_name": "LayoutModel",
            "_view_count": null,
            "_view_module": "@jupyter-widgets/base",
            "_view_module_version": "1.2.0",
            "_view_name": "LayoutView",
            "align_content": null,
            "align_items": null,
            "align_self": null,
            "border": null,
            "bottom": null,
            "display": null,
            "flex": null,
            "flex_flow": null,
            "grid_area": null,
            "grid_auto_columns": null,
            "grid_auto_flow": null,
            "grid_auto_rows": null,
            "grid_column": null,
            "grid_gap": null,
            "grid_row": null,
            "grid_template_areas": null,
            "grid_template_columns": null,
            "grid_template_rows": null,
            "height": null,
            "justify_content": null,
            "justify_items": null,
            "left": null,
            "margin": null,
            "max_height": null,
            "max_width": null,
            "min_height": null,
            "min_width": null,
            "object_fit": null,
            "object_position": null,
            "order": null,
            "overflow": null,
            "overflow_x": null,
            "overflow_y": null,
            "padding": null,
            "right": null,
            "top": null,
            "visibility": null,
            "width": null
          }
        },
        "0dea067c1b20474693e1a69fea17ab59": {
          "model_module": "@jupyter-widgets/controls",
          "model_name": "DescriptionStyleModel",
          "model_module_version": "1.5.0",
          "state": {
            "_model_module": "@jupyter-widgets/controls",
            "_model_module_version": "1.5.0",
            "_model_name": "DescriptionStyleModel",
            "_view_count": null,
            "_view_module": "@jupyter-widgets/base",
            "_view_module_version": "1.2.0",
            "_view_name": "StyleView",
            "description_width": ""
          }
        },
        "04d4aeee13f949388583823373f2776f": {
          "model_module": "@jupyter-widgets/base",
          "model_name": "LayoutModel",
          "model_module_version": "1.2.0",
          "state": {
            "_model_module": "@jupyter-widgets/base",
            "_model_module_version": "1.2.0",
            "_model_name": "LayoutModel",
            "_view_count": null,
            "_view_module": "@jupyter-widgets/base",
            "_view_module_version": "1.2.0",
            "_view_name": "LayoutView",
            "align_content": null,
            "align_items": null,
            "align_self": null,
            "border": null,
            "bottom": null,
            "display": null,
            "flex": null,
            "flex_flow": null,
            "grid_area": null,
            "grid_auto_columns": null,
            "grid_auto_flow": null,
            "grid_auto_rows": null,
            "grid_column": null,
            "grid_gap": null,
            "grid_row": null,
            "grid_template_areas": null,
            "grid_template_columns": null,
            "grid_template_rows": null,
            "height": null,
            "justify_content": null,
            "justify_items": null,
            "left": null,
            "margin": null,
            "max_height": null,
            "max_width": null,
            "min_height": null,
            "min_width": null,
            "object_fit": null,
            "object_position": null,
            "order": null,
            "overflow": null,
            "overflow_x": null,
            "overflow_y": null,
            "padding": null,
            "right": null,
            "top": null,
            "visibility": null,
            "width": null
          }
        },
        "8fe758a92806466990c80d4c13f24365": {
          "model_module": "@jupyter-widgets/controls",
          "model_name": "ProgressStyleModel",
          "model_module_version": "1.5.0",
          "state": {
            "_model_module": "@jupyter-widgets/controls",
            "_model_module_version": "1.5.0",
            "_model_name": "ProgressStyleModel",
            "_view_count": null,
            "_view_module": "@jupyter-widgets/base",
            "_view_module_version": "1.2.0",
            "_view_name": "StyleView",
            "bar_color": null,
            "description_width": ""
          }
        },
        "0aa36b99721c4289b340dc119a131b63": {
          "model_module": "@jupyter-widgets/base",
          "model_name": "LayoutModel",
          "model_module_version": "1.2.0",
          "state": {
            "_model_module": "@jupyter-widgets/base",
            "_model_module_version": "1.2.0",
            "_model_name": "LayoutModel",
            "_view_count": null,
            "_view_module": "@jupyter-widgets/base",
            "_view_module_version": "1.2.0",
            "_view_name": "LayoutView",
            "align_content": null,
            "align_items": null,
            "align_self": null,
            "border": null,
            "bottom": null,
            "display": null,
            "flex": null,
            "flex_flow": null,
            "grid_area": null,
            "grid_auto_columns": null,
            "grid_auto_flow": null,
            "grid_auto_rows": null,
            "grid_column": null,
            "grid_gap": null,
            "grid_row": null,
            "grid_template_areas": null,
            "grid_template_columns": null,
            "grid_template_rows": null,
            "height": null,
            "justify_content": null,
            "justify_items": null,
            "left": null,
            "margin": null,
            "max_height": null,
            "max_width": null,
            "min_height": null,
            "min_width": null,
            "object_fit": null,
            "object_position": null,
            "order": null,
            "overflow": null,
            "overflow_x": null,
            "overflow_y": null,
            "padding": null,
            "right": null,
            "top": null,
            "visibility": null,
            "width": null
          }
        },
        "39e13cd0db0a46178d22ef332556d2f1": {
          "model_module": "@jupyter-widgets/controls",
          "model_name": "DescriptionStyleModel",
          "model_module_version": "1.5.0",
          "state": {
            "_model_module": "@jupyter-widgets/controls",
            "_model_module_version": "1.5.0",
            "_model_name": "DescriptionStyleModel",
            "_view_count": null,
            "_view_module": "@jupyter-widgets/base",
            "_view_module_version": "1.2.0",
            "_view_name": "StyleView",
            "description_width": ""
          }
        }
      }
    }
  },
  "cells": [
    {
      "cell_type": "markdown",
      "source": [
        "## Maestría en Inteligencia Artificial Aplicada (MNA)\n",
        "### Proyecto Integrador\n",
        "### Dra. Grettel Barceló Alonso / Dr. Carlos Alberto Villaseñor Padilla\n",
        "### Avance 3. Baseline\n",
        "\n",
        "### Integrantes\n",
        "- A01794457 - Iossif Moises Palli Laura\n",
        "- A01793984 - Brenda Zurazy Rodríguez Pérez\n",
        "- A01794630 - Jesús Ramseths Echeverría Rivera"
      ],
      "metadata": {
        "id": "pwN05umOBGBO"
      }
    },
    {
      "cell_type": "code",
      "source": [
        "!pip install datasets peft bitsandbytes\n",
        "!pip install -U bitsandbytes"
      ],
      "metadata": {
        "id": "NOpc0jbvM1Pa"
      },
      "execution_count": null,
      "outputs": []
    },
    {
      "cell_type": "code",
      "execution_count": null,
      "metadata": {
        "id": "gszw8Uc4MmPf"
      },
      "outputs": [],
      "source": [
        "# Paqueterías a utilizar\n",
        "import pandas as pd\n",
        "from datasets import load_dataset\n",
        "from transformers import TrainingArguments, AutoTokenizer, AutoModelForCausalLM\n",
        "from transformers import Trainer\n",
        "from transformers import LlamaTokenizer, LlamaForCausalLM\n",
        "from peft import LoraConfig, get_peft_model\n",
        "from transformers import BitsAndBytesConfig\n",
        "from torch.utils.data import DataLoader\n",
        "from tqdm import tqdm\n",
        "from nltk.translate.bleu_score import sentence_bleu"
      ]
    },
    {
      "cell_type": "markdown",
      "source": [
        "Primero se hace la **configuración para la cuantización** del modelo LLM utilizando la función BitsAndBytes.\n",
        "\n",
        "La cuantización es una técnica que reduce el tamaño de los modelos y mejora la eficiencia de la inferencia, permitiendo que los modelos se ejecuten más rápidamente y con menos memoria, sin una pérdida significativa en la calidad."
      ],
      "metadata": {
        "id": "2JKL9szTFZMv"
      }
    },
    {
      "cell_type": "code",
      "source": [
        "# Cuantización del modelo\n",
        "quantization_config = BitsAndBytesConfig(\n",
        "    load_in_8bit=True,\n",
        "    llm_int8_threshold=6.0\n",
        ")"
      ],
      "metadata": {
        "id": "wEaoPDFSaI--"
      },
      "execution_count": null,
      "outputs": []
    },
    {
      "cell_type": "markdown",
      "source": [
        "Se inicia sesión en el Hugging Face Hub utilizando un token de autenticación."
      ],
      "metadata": {
        "id": "4df-ePK5GJpf"
      }
    },
    {
      "cell_type": "code",
      "source": [
        "# Inicio de sesión en el Hub de Hugging Face\n",
        "from huggingface_hub import login\n",
        "\n",
        "# Token de huggingface\n",
        "login('')"
      ],
      "metadata": {
        "colab": {
          "base_uri": "https://localhost:8080/"
        },
        "id": "ghhnuRY6Wfly",
        "outputId": "682165dc-7fc0-46e8-fef7-5656545a8834"
      },
      "execution_count": null,
      "outputs": [
        {
          "output_type": "stream",
          "name": "stdout",
          "text": [
            "The token has not been saved to the git credentials helper. Pass `add_to_git_credential=True` in this function directly or `--add-to-git-credential` if using via `huggingface-cli` if you want to set the git credential as well.\n",
            "Token is valid (permission: read).\n",
            "Your token has been saved to /root/.cache/huggingface/token\n",
            "Login successful\n"
          ]
        }
      ]
    },
    {
      "cell_type": "markdown",
      "source": [
        "Se carga el modelo de lenguaje preentrenado de Hugging Face, específicamente **el modelo LLaMA 3.2**, junto con su tokenizador.\n",
        "\n",
        "Llama 3.2, es un modelo que incluye LLM de visión (11B y 90B) y de texto (1B y 3B) para dispositivos móviles y de gama alta, optimizados para tareas como recuperación de conocimientos y seguimiento de instrucciones, con soporte para hardware Qualcomm y MediaTek.\n",
        "\n",
        "**Bibliografía:**\n",
        "\n",
        "Meta. (2024, 7 octubre). Newsroom | Meta. Meta. https://about.fb.com/news/"
      ],
      "metadata": {
        "id": "foHTihq3Eh7t"
      }
    },
    {
      "cell_type": "code",
      "source": [
        "# Carga de modelo Llama\n",
        "MODEL_NAME = 'meta-llama/Llama-3.2-3B-Instruct'\n",
        "tokenizer = AutoTokenizer.from_pretrained(MODEL_NAME)\n",
        "model = AutoModelForCausalLM.from_pretrained(MODEL_NAME, quantization_config=quantization_config, device_map='auto')"
      ],
      "metadata": {
        "id": "WtdcuzC-NDMH",
        "colab": {
          "base_uri": "https://localhost:8080/",
          "height": 49,
          "referenced_widgets": [
            "371b242251ba4f87ad5c4dc1595e1d33",
            "cf57e0a351854e63aebeb4f59eea2909",
            "dddce01ccdf140d781414bd51bc68814",
            "9e1bcb32c5354aa3843d004e5c056947",
            "77ff8581a9894b60b0a018f7298af7d6",
            "f3c22ecd74f74e84b40ba9152acc011f",
            "f478d44dfa2342f3b5632b33c755fdd3",
            "eeacd6b3d6ef493aa53f48465637a950",
            "274ba22fa84041cebb863ae8872a5fb7",
            "60c8bd995a2f4d088ee001f4ccfbbecc",
            "1cce2afafa4a46c2944816d22b41516f"
          ]
        },
        "outputId": "05aecbbe-a8d7-4c09-b5d6-84859fa12c84"
      },
      "execution_count": null,
      "outputs": [
        {
          "output_type": "display_data",
          "data": {
            "text/plain": [
              "Loading checkpoint shards:   0%|          | 0/2 [00:00<?, ?it/s]"
            ],
            "application/vnd.jupyter.widget-view+json": {
              "version_major": 2,
              "version_minor": 0,
              "model_id": "371b242251ba4f87ad5c4dc1595e1d33"
            }
          },
          "metadata": {}
        }
      ]
    },
    {
      "cell_type": "markdown",
      "source": [
        "Posteriormente se configura y aplica **LoRA (Low-Rank Adaptation)** al modelo.\n",
        "\n",
        "LoRA es un método que acelera el entrenamiento de modelos grandes mientras consume menos memoria, ya que en lugar de ajustar todos los millones (o incluso billones) de parámetros de un modelo, LoRA se enfoca solo en modificar una pequeña parte de ellos, ahorrando recursos computacionales y tiempo.\n",
        "\n",
        "**Bibliografía:**\n",
        "\n",
        "Low-Rank Adaptation of Large Language Models (LoRA). (s. f.). https://huggingface.co/docs/diffusers/v0.21.0/training/lora#lowrank-adaptation-of-large-language-models-lora\n"
      ],
      "metadata": {
        "id": "I-9bK3epGUCr"
      }
    },
    {
      "cell_type": "code",
      "source": [
        "# Configuración de LoRA (Low-Rank Adaptation)\n",
        "peft_config = LoraConfig(\n",
        "    r=8,\n",
        "    lora_alpha=32,\n",
        "    target_modules=[\"q_proj\", \"v_proj\"],  # Módulos a los que se aplicará LoRA\n",
        "    lora_dropout=0.05,\n",
        "    bias=\"none\",\n",
        "    task_type=\"CAUSAL_LM\"\n",
        ")\n",
        "\n",
        "model = get_peft_model(model, peft_config)"
      ],
      "metadata": {
        "id": "rsYGZ07RXzyf"
      },
      "execution_count": null,
      "outputs": []
    },
    {
      "cell_type": "code",
      "source": [
        "tokenizer.pad_token = tokenizer.eos_token"
      ],
      "metadata": {
        "id": "WPtdBTS7ZObq"
      },
      "execution_count": null,
      "outputs": []
    },
    {
      "cell_type": "markdown",
      "source": [
        "Se hace la carga de los datos de estructura de preguntas y repuestas."
      ],
      "metadata": {
        "id": "paYjZGf_JSp9"
      }
    },
    {
      "cell_type": "code",
      "source": [
        "# Carga de datos\n",
        "dataset = load_dataset('csv', data_files='q_a_db.csv')"
      ],
      "metadata": {
        "id": "RrFQ2NYoZixu"
      },
      "execution_count": null,
      "outputs": []
    },
    {
      "cell_type": "markdown",
      "source": [
        "Se dividen los datos en entrenamiento y prueba."
      ],
      "metadata": {
        "id": "S0j-nF65PYDZ"
      }
    },
    {
      "cell_type": "code",
      "source": [
        "split_dataset = dataset['train'].train_test_split(test_size=0.2)\n",
        "\n",
        "# Asignación de la partición\n",
        "train_dataset = split_dataset['train']\n",
        "test_dataset = split_dataset['test']"
      ],
      "metadata": {
        "id": "VBC48OXMPoX2"
      },
      "execution_count": null,
      "outputs": []
    },
    {
      "cell_type": "code",
      "source": [
        "print('Tamaño de entrenamiento:', train_dataset.shape[0])\n",
        "print('Tamaño de prueba:', test_dataset.shape[0])"
      ],
      "metadata": {
        "id": "Vv96GWlNPwvu",
        "outputId": "3b8760f8-0ea4-42b4-9add-3c1cd500369e",
        "colab": {
          "base_uri": "https://localhost:8080/"
        }
      },
      "execution_count": null,
      "outputs": [
        {
          "output_type": "stream",
          "name": "stdout",
          "text": [
            "Tamaño de entrenamiento: 914\n",
            "Tamaño de prueba: 229\n"
          ]
        }
      ]
    },
    {
      "cell_type": "markdown",
      "source": [
        "Se contruye una función de tokenización llamada **tokenize_function** que nos servirá para conviertir el texto en secuencias de tokens que el modelo puede procesar.\n",
        "\n",
        "La función concatena cada pregunta y respuesta de la base de datos, después generará la tokenización y se etiquetarán cada una de ellas, posteriormente, medirá la longitud de los tokens correspondientes al prompt, esto se hace para diferenciar los tokens que corresponden a la pregunta y respuesta y finalmente lo que hará la función es enmascarar los tokens correspondientes al prompt."
      ],
      "metadata": {
        "id": "u0vl_4oiJXDZ"
      }
    },
    {
      "cell_type": "code",
      "source": [
        "# Se define una función de tokenización llamada tokenize_function\n",
        "def tokenize_function(example):\n",
        "    # Concatenar prompt y respuesta\n",
        "    full_text = example['question'] + example['answer']\n",
        "\n",
        "    # Tokenizar\n",
        "    tokenized_example = tokenizer(\n",
        "        full_text,\n",
        "        truncation=True,\n",
        "        padding='max_length',\n",
        "        max_length=500,)\n",
        "\n",
        "    # Crear etiquetas\n",
        "    labels = tokenized_example['input_ids'].copy()\n",
        "\n",
        "    # Calcular la longitud del prompt\n",
        "    prompt_length = len(tokenizer(\n",
        "        example['question'],\n",
        "        add_special_tokens=False\n",
        "    )['input_ids'])\n",
        "\n",
        "    # Enmascarar los tokens del prompt\n",
        "    labels[:prompt_length] = [-100] * prompt_length\n",
        "\n",
        "    tokenized_example['labels'] = labels\n",
        "    return tokenized_example\n",
        "\n",
        "\n",
        "train_tokenized_dataset = train_dataset.map(tokenize_function, batched=False)\n",
        "test_tokenized_dataset = test_dataset.map(tokenize_function, batched=False)\n"
      ],
      "metadata": {
        "id": "tEwFj6xPYCVS",
        "outputId": "43999943-61c2-404c-b67c-aa0917c38354",
        "colab": {
          "base_uri": "https://localhost:8080/",
          "height": 81,
          "referenced_widgets": [
            "66fc9166c41849c7a4a60b19fc72817c",
            "fe9b919650734480a53639d55887407d",
            "61426cd39f0d44ecba7203ad0741e23a",
            "620edac77ab44ce6b3a099bf6dc3b6eb",
            "701b2a4b743b4d7a85e1c576092d931d",
            "c4ac2f64f79d4deca959d2bab48822db",
            "e72ce829580547848ccc928b8ff37442",
            "ba347bd5a0194a429660e1169939a282",
            "6a48926e97484464bb7f4dc038b4f4dc",
            "764d839d1f3d49c1b4f1d5f99034ecc4",
            "54839af3906b4f1cad8b9457b70177da",
            "15825df1d0784bf2bb778300ece6afff",
            "146fc1d760e54b7a993e32f1d48e6ab3",
            "f26e667a38f94a4b9c869ba58d1fc8aa",
            "bdf60d0022814389b315cdf9691d81be",
            "7b007b26f06a4a3dbb254387586a1113",
            "eebd42e3da0e4992bc893f9056eb1318",
            "93f57a7a688d48e4bfc857d1f64fdf26",
            "0559edbd11c8435091113431cda64310",
            "2914ba3fb613413c89a879c7614a21ed",
            "814e2fe7e640482ab998219f1d2ba9c6",
            "2949bf7bc15042408f732688e3b16a3f"
          ]
        }
      },
      "execution_count": null,
      "outputs": [
        {
          "output_type": "display_data",
          "data": {
            "text/plain": [
              "Map:   0%|          | 0/914 [00:00<?, ? examples/s]"
            ],
            "application/vnd.jupyter.widget-view+json": {
              "version_major": 2,
              "version_minor": 0,
              "model_id": "66fc9166c41849c7a4a60b19fc72817c"
            }
          },
          "metadata": {}
        },
        {
          "output_type": "display_data",
          "data": {
            "text/plain": [
              "Map:   0%|          | 0/229 [00:00<?, ? examples/s]"
            ],
            "application/vnd.jupyter.widget-view+json": {
              "version_major": 2,
              "version_minor": 0,
              "model_id": "15825df1d0784bf2bb778300ece6afff"
            }
          },
          "metadata": {}
        }
      ]
    },
    {
      "cell_type": "markdown",
      "source": [
        "Una vez que se transforme la base de datos original en un nuevo dataset donde cada registro está tokenizado y por lo tanto listo para el entrenamiento de un modelo."
      ],
      "metadata": {
        "id": "AONnyZDiMYwA"
      }
    },
    {
      "cell_type": "code",
      "source": [
        "training_args = TrainingArguments(\n",
        "    output_dir='./resultado_lora',\n",
        "    per_device_train_batch_size=4,\n",
        "    gradient_accumulation_steps=16,\n",
        "    num_train_epochs=5,\n",
        "    learning_rate=3e-4,\n",
        "    fp16=True,\n",
        "    logging_steps=10,\n",
        "    save_steps=1000,\n",
        "    save_total_limit=2,\n",
        ")"
      ],
      "metadata": {
        "id": "hzbk2CbXZncW"
      },
      "execution_count": null,
      "outputs": []
    },
    {
      "cell_type": "code",
      "source": [
        "# Entrenamiento del modelo\n",
        "trainer = Trainer(\n",
        "    model=model,\n",
        "    args=training_args,\n",
        "    train_dataset=train_tokenized_dataset,\n",
        ")\n",
        "trainer.train()"
      ],
      "metadata": {
        "colab": {
          "base_uri": "https://localhost:8080/",
          "height": 384
        },
        "id": "rB6hGT9zZq_H",
        "outputId": "66cc4c3f-1639-4f14-8d48-3eb3d29772b2"
      },
      "execution_count": null,
      "outputs": [
        {
          "output_type": "stream",
          "name": "stderr",
          "text": [
            "/usr/local/lib/python3.10/dist-packages/accelerate/accelerator.py:494: FutureWarning: `torch.cuda.amp.GradScaler(args...)` is deprecated. Please use `torch.amp.GradScaler('cuda', args...)` instead.\n",
            "  self.scaler = torch.cuda.amp.GradScaler(**kwargs)\n"
          ]
        },
        {
          "output_type": "display_data",
          "data": {
            "text/plain": [
              "<IPython.core.display.HTML object>"
            ],
            "text/html": [
              "\n",
              "    <div>\n",
              "      \n",
              "      <progress value='70' max='70' style='width:300px; height:20px; vertical-align: middle;'></progress>\n",
              "      [70/70 20:11, Epoch 4/5]\n",
              "    </div>\n",
              "    <table border=\"1\" class=\"dataframe\">\n",
              "  <thead>\n",
              " <tr style=\"text-align: left;\">\n",
              "      <th>Step</th>\n",
              "      <th>Training Loss</th>\n",
              "    </tr>\n",
              "  </thead>\n",
              "  <tbody>\n",
              "    <tr>\n",
              "      <td>10</td>\n",
              "      <td>3.232700</td>\n",
              "    </tr>\n",
              "    <tr>\n",
              "      <td>20</td>\n",
              "      <td>0.117000</td>\n",
              "    </tr>\n",
              "    <tr>\n",
              "      <td>30</td>\n",
              "      <td>0.093000</td>\n",
              "    </tr>\n",
              "    <tr>\n",
              "      <td>40</td>\n",
              "      <td>0.088000</td>\n",
              "    </tr>\n",
              "    <tr>\n",
              "      <td>50</td>\n",
              "      <td>0.083600</td>\n",
              "    </tr>\n",
              "    <tr>\n",
              "      <td>60</td>\n",
              "      <td>0.081400</td>\n",
              "    </tr>\n",
              "    <tr>\n",
              "      <td>70</td>\n",
              "      <td>0.080800</td>\n",
              "    </tr>\n",
              "  </tbody>\n",
              "</table><p>"
            ]
          },
          "metadata": {}
        },
        {
          "output_type": "execute_result",
          "data": {
            "text/plain": [
              "TrainOutput(global_step=70, training_loss=0.5395010854516711, metrics={'train_runtime': 1229.7151, 'train_samples_per_second': 3.716, 'train_steps_per_second': 0.057, 'total_flos': 3.7847088095232e+16, 'train_loss': 0.5395010854516711, 'epoch': 4.890829694323144})"
            ]
          },
          "metadata": {},
          "execution_count": 28
        }
      ]
    },
    {
      "cell_type": "markdown",
      "source": [
        "La tabla anterior nos muestra cómo disminuye la pérdida durante el entrenamiento del modelo, vemos que a partir del paso 20 y hasta el final, la pérdida es bastante baja (llegando a 0.080800 en el paso 70 y fluctuando ligeramente).\n",
        "\n",
        "Esto indica que el **modelo aprendió correctamente** y se está ajustando bien a los datos, logrando una buena mejora con el tiempo."
      ],
      "metadata": {
        "id": "eNspEJ8IN3oC"
      }
    },
    {
      "cell_type": "code",
      "source": [
        "# Se guarda el modelos entrenado y la tokenización\n",
        "model.save_pretrained('llama-3.2-3b-fine-tuning')\n",
        "tokenizer.save_pretrained('llama-3.2-3b-fine-tuning')"
      ],
      "metadata": {
        "colab": {
          "base_uri": "https://localhost:8080/"
        },
        "id": "anE0RoUEbEEX",
        "outputId": "1cae6c3b-83ec-4403-edfe-5cbfd764cad9"
      },
      "execution_count": null,
      "outputs": [
        {
          "output_type": "execute_result",
          "data": {
            "text/plain": [
              "('llama-3.2-3b-fine-tuning/tokenizer_config.json',\n",
              " 'llama-3.2-3b-fine-tuning/special_tokens_map.json',\n",
              " 'llama-3.2-3b-fine-tuning/tokenizer.json')"
            ]
          },
          "metadata": {},
          "execution_count": 29
        }
      ]
    },
    {
      "cell_type": "markdown",
      "source": [
        "### Evaluación"
      ],
      "metadata": {
        "id": "0UOUF8NybrVX"
      }
    },
    {
      "cell_type": "code",
      "source": [
        "#  Importa las librerías para trabajar con modelos ajustados mediante PEFT (Parameter-Efficient Fine-Tuning) y la librería de PyTorch.\n",
        "from peft import PeftModel\n",
        "import torch"
      ],
      "metadata": {
        "id": "vdaAVSqHcXZ_"
      },
      "execution_count": null,
      "outputs": []
    },
    {
      "cell_type": "markdown",
      "source": [
        "Se carga el modelo LLaMA preentrenado, previamente se aplicarán técnicas de cuantización para reducir el uso de recursos para que después poder hacer inferencia."
      ],
      "metadata": {
        "id": "Jwg9ICfKAfIF"
      }
    },
    {
      "cell_type": "code",
      "source": [
        "model_name = './llama-3.2-3b-fine-tuning/' #'meta-llama/Llama-3.2-3B-Instruct' #\n",
        "\n",
        "# Cargar el tokenizer\n",
        "tokenizer = AutoTokenizer.from_pretrained(model_name)\n",
        "\n",
        "# Configuración de cuantización\n",
        "quantization_config = BitsAndBytesConfig(\n",
        "    load_in_8bit=True,\n",
        "    llm_int8_threshold=6.0\n",
        ")\n",
        "\n",
        "# Cargar el modelo con cuantización\n",
        "model = LlamaForCausalLM.from_pretrained(\n",
        "    model_name,\n",
        "    quantization_config=quantization_config,\n",
        "    device_map='auto'\n",
        ")\n",
        "\n",
        "# # Carga\n",
        "# model = PeftModel.from_pretrained(model, model_name)\n",
        "\n",
        "model.eval()"
      ],
      "metadata": {
        "colab": {
          "base_uri": "https://localhost:8080/",
          "height": 1000,
          "referenced_widgets": [
            "cd83907688f84a12a498a7a53928f1c0",
            "88c5ecc9d50446d8b9e3379d62999a08",
            "c22ab575a6c24cf9992a2fc930bccea5",
            "a71081c5139d4855adc7b17640c85ce1",
            "21388ff6a9e942f094993d0411e610f6",
            "9791f3564afc4bf19bd32d01c5f85668",
            "0dea067c1b20474693e1a69fea17ab59",
            "04d4aeee13f949388583823373f2776f",
            "8fe758a92806466990c80d4c13f24365",
            "0aa36b99721c4289b340dc119a131b63",
            "39e13cd0db0a46178d22ef332556d2f1"
          ]
        },
        "id": "GBM_C473btK3",
        "outputId": "e0db4855-79fb-4d34-9562-8b0cd2365b1f"
      },
      "execution_count": null,
      "outputs": [
        {
          "output_type": "display_data",
          "data": {
            "text/plain": [
              "Loading checkpoint shards:   0%|          | 0/2 [00:00<?, ?it/s]"
            ],
            "application/vnd.jupyter.widget-view+json": {
              "version_major": 2,
              "version_minor": 0,
              "model_id": "cd83907688f84a12a498a7a53928f1c0"
            }
          },
          "metadata": {}
        },
        {
          "output_type": "execute_result",
          "data": {
            "text/plain": [
              "LlamaForCausalLM(\n",
              "  (model): LlamaModel(\n",
              "    (embed_tokens): Embedding(128256, 3072)\n",
              "    (layers): ModuleList(\n",
              "      (0-27): 28 x LlamaDecoderLayer(\n",
              "        (self_attn): LlamaSdpaAttention(\n",
              "          (q_proj): lora.Linear8bitLt(\n",
              "            (base_layer): Linear8bitLt(in_features=3072, out_features=3072, bias=False)\n",
              "            (lora_dropout): ModuleDict(\n",
              "              (default): Dropout(p=0.05, inplace=False)\n",
              "            )\n",
              "            (lora_A): ModuleDict(\n",
              "              (default): Linear(in_features=3072, out_features=8, bias=False)\n",
              "            )\n",
              "            (lora_B): ModuleDict(\n",
              "              (default): Linear(in_features=8, out_features=3072, bias=False)\n",
              "            )\n",
              "            (lora_embedding_A): ParameterDict()\n",
              "            (lora_embedding_B): ParameterDict()\n",
              "            (lora_magnitude_vector): ModuleDict()\n",
              "          )\n",
              "          (k_proj): Linear8bitLt(in_features=3072, out_features=1024, bias=False)\n",
              "          (v_proj): lora.Linear8bitLt(\n",
              "            (base_layer): Linear8bitLt(in_features=3072, out_features=1024, bias=False)\n",
              "            (lora_dropout): ModuleDict(\n",
              "              (default): Dropout(p=0.05, inplace=False)\n",
              "            )\n",
              "            (lora_A): ModuleDict(\n",
              "              (default): Linear(in_features=3072, out_features=8, bias=False)\n",
              "            )\n",
              "            (lora_B): ModuleDict(\n",
              "              (default): Linear(in_features=8, out_features=1024, bias=False)\n",
              "            )\n",
              "            (lora_embedding_A): ParameterDict()\n",
              "            (lora_embedding_B): ParameterDict()\n",
              "            (lora_magnitude_vector): ModuleDict()\n",
              "          )\n",
              "          (o_proj): Linear8bitLt(in_features=3072, out_features=3072, bias=False)\n",
              "          (rotary_emb): LlamaRotaryEmbedding()\n",
              "        )\n",
              "        (mlp): LlamaMLP(\n",
              "          (gate_proj): Linear8bitLt(in_features=3072, out_features=8192, bias=False)\n",
              "          (up_proj): Linear8bitLt(in_features=3072, out_features=8192, bias=False)\n",
              "          (down_proj): Linear8bitLt(in_features=8192, out_features=3072, bias=False)\n",
              "          (act_fn): SiLU()\n",
              "        )\n",
              "        (input_layernorm): LlamaRMSNorm((3072,), eps=1e-05)\n",
              "        (post_attention_layernorm): LlamaRMSNorm((3072,), eps=1e-05)\n",
              "      )\n",
              "    )\n",
              "    (norm): LlamaRMSNorm((3072,), eps=1e-05)\n",
              "    (rotary_emb): LlamaRotaryEmbedding()\n",
              "  )\n",
              "  (lm_head): Linear(in_features=3072, out_features=128256, bias=False)\n",
              ")"
            ]
          },
          "metadata": {},
          "execution_count": 8
        }
      ]
    },
    {
      "cell_type": "markdown",
      "source": [
        "Probando el modelo"
      ],
      "metadata": {
        "id": "sVZh-SBLAZzl"
      }
    },
    {
      "cell_type": "code",
      "source": [
        "# Prompt de entrada\n",
        "prompt = \"\"\"¿Qué necesito para un sistema de pagos en México?\"\"\"\n",
        "\n",
        "# Tokenizar\n",
        "inputs = tokenizer(prompt, return_tensors='pt')\n",
        "\n",
        "# Mover los tensores\n",
        "inputs = {key: value.to(model.device) for key, value in inputs.items()}\n",
        "\n",
        "# Generar la respuesta\n",
        "with torch.no_grad():\n",
        "    output = model.generate(\n",
        "        **inputs,\n",
        "        max_new_tokens=1000,    # Número máximo de tokens a generar\n",
        "        do_sample=True,\n",
        "        temperature=0.1,\n",
        "        top_p=0.9,\n",
        "        top_k=50,\n",
        "        repetition_penalty=1.2\n",
        "    )\n",
        "\n",
        "# Decodificar\n",
        "respuesta = tokenizer.decode(output[0], skip_special_tokens=True)\n",
        "\n",
        "# Extraer\n",
        "respuesta_generada = respuesta[len(prompt):].strip()\n",
        "\n",
        "print(\"Respuesta del modelo:\")\n",
        "print(respuesta_generada)"
      ],
      "metadata": {
        "colab": {
          "base_uri": "https://localhost:8080/"
        },
        "id": "z0R57tFrcbWZ",
        "outputId": "92c3203e-6aa8-4985-e933-2ade70f9d83c"
      },
      "execution_count": null,
      "outputs": [
        {
          "output_type": "stream",
          "name": "stderr",
          "text": [
            "Setting `pad_token_id` to `eos_token_id`:128001 for open-end generation.\n"
          ]
        },
        {
          "output_type": "stream",
          "name": "stdout",
          "text": [
            "Respuesta del modelo:\n",
            "Licencia del Banco y cumplimiento con las regulaciones financieras.\n"
          ]
        }
      ]
    },
    {
      "cell_type": "markdown",
      "source": [
        "### Métricas"
      ],
      "metadata": {
        "id": "ayvg6zVlOjEI"
      }
    },
    {
      "cell_type": "code",
      "source": [
        "# Se seleccionan dos muestras debido a la capacidad\n",
        "test_samples = test_dataset.select(range(2))\n",
        "test_tokenized_samples = test_samples.map(tokenize_function, batched=False)"
      ],
      "metadata": {
        "id": "8-wrbr6PXVTN"
      },
      "execution_count": null,
      "outputs": []
    },
    {
      "cell_type": "code",
      "source": [
        "# Carga de datos de prueba\n",
        "test_dataloader = DataLoader(\n",
        "    test_tokenized_samples,\n",
        "    batch_size=8,\n",
        "    shuffle=False\n",
        ")"
      ],
      "metadata": {
        "id": "NwWuAT5ROoCs"
      },
      "execution_count": null,
      "outputs": []
    },
    {
      "cell_type": "code",
      "source": [
        "def generate_responses(model, tokenizer, test_dataset):\n",
        "    model.eval()\n",
        "    generated_responses = []\n",
        "    real_responses = []\n",
        "\n",
        "    for example in tqdm(test_dataset):\n",
        "        prompt = example['question']\n",
        "        real_answer = example['answer']\n",
        "\n",
        "        # Tokenizar el prompt\n",
        "        inputs = tokenizer(prompt, return_tensors='pt').to(model.device)\n",
        "\n",
        "        # Generar la respuesta\n",
        "        with torch.no_grad():\n",
        "            output = model.generate(\n",
        "                **inputs,\n",
        "                max_new_tokens=200,\n",
        "                do_sample=True,\n",
        "                temperature=0.7,\n",
        "                top_p=0.9,\n",
        "                repetition_penalty=1.2\n",
        "            )\n",
        "\n",
        "        # Decodificar la respuesta generada\n",
        "        generated_text = tokenizer.decode(output[0], skip_special_tokens=True)\n",
        "        # Extraer solo la respuesta generada (sin el prompt)\n",
        "        generated_answer = generated_text[len(prompt):].strip()\n",
        "\n",
        "        generated_responses.append(generated_answer)\n",
        "        real_responses.append(real_answer)\n",
        "\n",
        "    return generated_responses, real_responses"
      ],
      "metadata": {
        "id": "M7EfzKd7WLeA"
      },
      "execution_count": null,
      "outputs": []
    },
    {
      "cell_type": "code",
      "source": [
        "generated_responses, real_responses = generate_responses(model, tokenizer, test_tokenized_samples)"
      ],
      "metadata": {
        "id": "NjRWsQb0WxD8",
        "outputId": "d4664845-216a-40f8-afb0-00db0a91c71f",
        "colab": {
          "base_uri": "https://localhost:8080/"
        }
      },
      "execution_count": null,
      "outputs": [
        {
          "output_type": "stream",
          "name": "stderr",
          "text": [
            "  0%|          | 0/2 [00:00<?, ?it/s]Setting `pad_token_id` to `eos_token_id`:128001 for open-end generation.\n",
            " 50%|█████     | 1/2 [00:34<00:34, 34.04s/it]Setting `pad_token_id` to `eos_token_id`:128001 for open-end generation.\n",
            "100%|██████████| 2/2 [01:07<00:00, 33.96s/it]\n"
          ]
        }
      ]
    },
    {
      "cell_type": "code",
      "source": [
        "for i in range(len(generated_responses)):\n",
        "    reference = [real_responses[i].split()]\n",
        "    candidate = generated_responses[i].split()\n",
        "    bleu_score = sentence_bleu(reference, candidate)\n",
        "    print(f\"BLEU Score para la muestra {i+1}: {bleu_score}\")"
      ],
      "metadata": {
        "id": "a9atf7HsX-7w",
        "outputId": "bb8aaa6f-74e0-454b-d950-ad76c339c670",
        "colab": {
          "base_uri": "https://localhost:8080/"
        }
      },
      "execution_count": null,
      "outputs": [
        {
          "output_type": "stream",
          "name": "stdout",
          "text": [
            "BLEU Score para la muestra 1: 0.033846304491122574\n",
            "BLEU Score para la muestra 2: 2.6793474497416882e-155\n"
          ]
        },
        {
          "output_type": "stream",
          "name": "stderr",
          "text": [
            "/usr/local/lib/python3.10/dist-packages/nltk/translate/bleu_score.py:552: UserWarning: \n",
            "The hypothesis contains 0 counts of 3-gram overlaps.\n",
            "Therefore the BLEU score evaluates to 0, independently of\n",
            "how many N-gram overlaps of lower order it contains.\n",
            "Consider using lower n-gram order or use SmoothingFunction()\n",
            "  warnings.warn(_msg)\n",
            "/usr/local/lib/python3.10/dist-packages/nltk/translate/bleu_score.py:552: UserWarning: \n",
            "The hypothesis contains 0 counts of 4-gram overlaps.\n",
            "Therefore the BLEU score evaluates to 0, independently of\n",
            "how many N-gram overlaps of lower order it contains.\n",
            "Consider using lower n-gram order or use SmoothingFunction()\n",
            "  warnings.warn(_msg)\n"
          ]
        }
      ]
    },
    {
      "cell_type": "markdown",
      "source": [
        "# **Conclusiones**\n",
        "\n",
        "El modelo generó una respuesta en base al prompt, lo procesó a través del modelo LLaMA para generar una respuesta textual y luego mostró la respuesta resultante.\n",
        "\n",
        "Al utilizar el modelo entrenado para generar respuestas a preguntas específicas, se observan resultados que pueden ser útiles para aplicaciones del mundo real, como sistemas de soporte al cliente o asistentes virtuales.\n",
        "\n",
        "Es importante mencionar que el modelo al ser Baseline existen posibles mejoras que se pueden hacer a través del ajuste de los valores de los hiperparámetros durante el entrenamiento, el ajuste de estos hiperparámetros causaría una optimización en el rendimiento del modelo.\n",
        "\n",
        "Por último, también esperamos incorporar un sistema de retroalimentación que permita al modelo aprender de las interacciones reales con los usuarios, esto provocaría mejoras significativas en la calidad de las respuestas y su relevancia en contextos específicos."
      ],
      "metadata": {
        "id": "uUrgrgxEBLMy"
      }
    }
  ]
}