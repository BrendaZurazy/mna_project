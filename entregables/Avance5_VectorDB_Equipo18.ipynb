{
 "cells": [
  {
   "cell_type": "code",
   "execution_count": 18,
   "metadata": {},
   "outputs": [],
   "source": [
    "from langchain_community.vectorstores import SKLearnVectorStore\n",
    "from langchain.embeddings import HuggingFaceEmbeddings\n",
    "from langchain_community.document_loaders import PyPDFLoader\n",
    "from langchain.text_splitter import RecursiveCharacterTextSplitter\n",
    "import re"
   ]
  },
  {
   "cell_type": "markdown",
   "metadata": {},
   "source": [
    "## Maestría en Inteligencia Artificial Aplicada (MNA)\n",
    "### Proyecto Integrador\n",
    "### Dra. Grettel Barceló Alonso / Dr. Carlos Alberto Villaseñor Padilla\n",
    "### Avance 5. Implementación de la Base de Vectores Final\n",
    "\n",
    "### Integrantes\n",
    "- A01794457 - Iossif Moises Palli Laura\n",
    "- A01793984 - Brenda Zurazy Rodríguez Pérez\n",
    "- A01794630 - Jesús Ramseths Echeverría Rivera"
   ]
  },
  {
   "cell_type": "markdown",
   "metadata": {},
   "source": [
    "### 1. Carga y división de documentos"
   ]
  },
  {
   "cell_type": "code",
   "execution_count": 3,
   "metadata": {},
   "outputs": [],
   "source": [
    "name_files = ['Ley de Fondos de Inversión', 'Ley para Regular las Instituciones de Tecnología Financiera',\n",
    "              'Ley para Regular las Agrupaciones Financieras'] # Nombre de los archivos"
   ]
  },
  {
   "cell_type": "code",
   "execution_count": 4,
   "metadata": {},
   "outputs": [],
   "source": [
    "# Aplicación de Separador Recursivo delimitado a 500 fragmentos\n",
    "docs = []\n",
    "for file in name_files:\n",
    "    # Cargar un documento PDF y extraer sus páginas\n",
    "    loader = PyPDFLoader(f'../base/{file}.pdf', extract_images=False)\n",
    "    pages = loader.load()\n",
    "    # Dividir el texto en fragmentos más pequeños\n",
    "    text_splitter = RecursiveCharacterTextSplitter(chunk_size=500, chunk_overlap=100)\n",
    "    tmp_docs = text_splitter.split_documents(pages)\n",
    "    docs.extend(tmp_docs)"
   ]
  },
  {
   "cell_type": "code",
   "execution_count": 5,
   "metadata": {},
   "outputs": [
    {
     "name": "stdout",
     "output_type": "stream",
     "text": [
      "Cantidad de Documentos: 3081\n"
     ]
    }
   ],
   "source": [
    "print(f'Cantidad de Documentos: {len(docs)}')"
   ]
  },
  {
   "cell_type": "markdown",
   "metadata": {},
   "source": [
    "### 2. Preprocesamiento"
   ]
  },
  {
   "cell_type": "code",
   "execution_count": 6,
   "metadata": {},
   "outputs": [],
   "source": [
    "# Limpiar el texto de los documentos\n",
    "for doc in docs:\n",
    "    # Se elimina espacios y saltos de línea al inicio y al final\n",
    "    text = doc.page_content.strip()\n",
    "    text = text.replace('\\n', ' ')\n",
    "\n",
    "    # Se wliminan espacios duplicados\n",
    "    text = re.sub(r'[ \\t]+', ' ', text)\n",
    "\n",
    "    # Actualizar\n",
    "    doc.page_content = text\n",
    "\n",
    "# Filtrar documentos vacíos\n",
    "docs = [doc for doc in docs if doc.page_content.strip() != '']"
   ]
  },
  {
   "cell_type": "markdown",
   "metadata": {},
   "source": [
    "### 3. Creación de Base Vectorial"
   ]
  },
  {
   "cell_type": "code",
   "execution_count": 8,
   "metadata": {},
   "outputs": [],
   "source": [
    "# Se usa este modelo por ser ligero en cuestión de recursos computacionales\n",
    "embeddings = HuggingFaceEmbeddings(model_name=\"sentence-transformers/multi-qa-MiniLM-L6-cos-v1\")"
   ]
  },
  {
   "cell_type": "code",
   "execution_count": 10,
   "metadata": {},
   "outputs": [],
   "source": [
    "# Definir la ruta donde se guardarán los embeddings\n",
    "persist_path = \"../database/embeddings_db\"\n",
    "# Especificación de la VectorDB\n",
    "vector_store = SKLearnVectorStore.from_documents(\n",
    "    documents=docs,\n",
    "    embedding=embeddings,\n",
    "    persist_path=persist_path,\n",
    "    serializer=\"parquet\"\n",
    ")\n",
    "# Se crea la base\n",
    "vector_store.persist()"
   ]
  },
  {
   "cell_type": "markdown",
   "metadata": {},
   "source": [
    "### 4. Prueba de la Base Vectorial"
   ]
  },
  {
   "cell_type": "code",
   "execution_count": 13,
   "metadata": {},
   "outputs": [],
   "source": [
    "# Se manda un prompt y se hace la búsqueda por similitud del coseno\n",
    "prompt = \"Información relacionada a los fondos de inversión en la CNBV\"\n",
    "documents = vector_store.similarity_search(prompt)"
   ]
  },
  {
   "cell_type": "code",
   "execution_count": 17,
   "metadata": {},
   "outputs": [
    {
     "name": "stdout",
     "output_type": "stream",
     "text": [
      "Resultado: \n",
      "\n",
      "(3) Las sociedades operadoras de fondos de inversión, así como las distribuidoras y valuadoras de acciones de fondos de inversión que se ubiquen en lo dispuesto en esta fracción, deberán entregar a la Comisión, la información y documentación que acredite satis facer lo antes señalado, dentro de los quince días hábiles siguientes a que se encuentren en dicho supuesto. La Comisión tendrá un plazo de noventa días hábiles, contado a partir de que reciba la información y documentación\n"
     ]
    }
   ],
   "source": [
    "print('Resultado: \\n')\n",
    "print(documents[0].page_content)"
   ]
  }
 ],
 "metadata": {
  "kernelspec": {
   "display_name": "llama",
   "language": "python",
   "name": "python3"
  },
  "language_info": {
   "codemirror_mode": {
    "name": "ipython",
    "version": 3
   },
   "file_extension": ".py",
   "mimetype": "text/x-python",
   "name": "python",
   "nbconvert_exporter": "python",
   "pygments_lexer": "ipython3",
   "version": "3.10.15"
  }
 },
 "nbformat": 4,
 "nbformat_minor": 2
}
