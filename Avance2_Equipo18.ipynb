{
  "nbformat": 4,
  "nbformat_minor": 0,
  "metadata": {
    "colab": {
      "provenance": [],
      "authorship_tag": "ABX9TyO81iwUvhbF1Ix7zgbvrC4A",
      "include_colab_link": true
    },
    "kernelspec": {
      "name": "python3",
      "display_name": "Python 3"
    },
    "language_info": {
      "name": "python"
    }
  },
  "cells": [
    {
      "cell_type": "markdown",
      "metadata": {
        "id": "view-in-github",
        "colab_type": "text"
      },
      "source": [
        "<a href=\"https://colab.research.google.com/github/BrendaZurazy/mna_project/blob/main/Avance2_Equipo18.ipynb\" target=\"_parent\"><img src=\"https://colab.research.google.com/assets/colab-badge.svg\" alt=\"Open In Colab\"/></a>"
      ]
    },
    {
      "cell_type": "markdown",
      "source": [
        "## Maestría en Inteligencia Artificial Aplicada (MNA)\n",
        "### Proyecto Integrador\n",
        "### Dra. Grettel Barceló Alonso / Dr. Carlos Alberto Villaseñor Padilla\n",
        "### Avance 2. Ingeniería de características\n",
        "\n",
        "### Integrantes\n",
        "- A01794457 - Iossif Moises Palli Laura\n",
        "- A01793984 - Brenda Zurazy Rodríguez Pérez\n",
        "- A01794630 - Jesús Ramseths Echeverría Rivera"
      ],
      "metadata": {
        "id": "TtHzF_djpd1J"
      }
    },
    {
      "cell_type": "code",
      "execution_count": 1,
      "metadata": {
        "id": "asj_gdI_pcwo"
      },
      "outputs": [],
      "source": [
        "# Paqueterías a utilizar\n",
        "import pandas as pd\n",
        "import numpy as np"
      ]
    },
    {
      "cell_type": "markdown",
      "source": [
        "### I. Carga de los datos"
      ],
      "metadata": {
        "id": "aglRD-wWp8eO"
      }
    },
    {
      "cell_type": "code",
      "source": [
        "df = pd.read_excel('../content/q_a_db.xlsx') # Se realiza la carga del conjunto de preguntas y respuestas\n",
        "df.head()"
      ],
      "metadata": {
        "colab": {
          "base_uri": "https://localhost:8080/",
          "height": 206
        },
        "id": "Es_mvW79p4XR",
        "outputId": "db89f517-ea5b-484f-9f85-2e2e5c390d1e"
      },
      "execution_count": 2,
      "outputs": [
        {
          "output_type": "execute_result",
          "data": {
            "text/plain": [
              "        date                                           question  \\\n",
              "0 2001-06-04  ¿Qué fecha fue publicada la Ley de Fondos de I...   \n",
              "1 2001-06-04         ¿Qué regula la Ley de Fondos de Inversión?   \n",
              "2 2001-06-04      ¿Qué debe fomentar la aplicación de esta ley?   \n",
              "3 2001-06-04             ¿Qué es un activo objeto de inversión?   \n",
              "4 2001-06-04   ¿Quién regula los fondos de inversión en México?   \n",
              "\n",
              "                                              answer             category  \n",
              "0                             El 4 de junio de 2001.  Fondos de Inversión  \n",
              "1  Regula la organización y funcionamiento de los...  Fondos de Inversión  \n",
              "2  El desarrollo equilibrado y la diversificación...  Fondos de Inversión  \n",
              "3  Son valores títulos y documentos aplicables al...  Fondos de Inversión  \n",
              "4        La Comisión Nacional Bancaria y de Valores.  Fondos de Inversión  "
            ],
            "text/html": [
              "\n",
              "  <div id=\"df-5dce895f-b3ef-4b56-aa25-7f058e1e014e\" class=\"colab-df-container\">\n",
              "    <div>\n",
              "<style scoped>\n",
              "    .dataframe tbody tr th:only-of-type {\n",
              "        vertical-align: middle;\n",
              "    }\n",
              "\n",
              "    .dataframe tbody tr th {\n",
              "        vertical-align: top;\n",
              "    }\n",
              "\n",
              "    .dataframe thead th {\n",
              "        text-align: right;\n",
              "    }\n",
              "</style>\n",
              "<table border=\"1\" class=\"dataframe\">\n",
              "  <thead>\n",
              "    <tr style=\"text-align: right;\">\n",
              "      <th></th>\n",
              "      <th>date</th>\n",
              "      <th>question</th>\n",
              "      <th>answer</th>\n",
              "      <th>category</th>\n",
              "    </tr>\n",
              "  </thead>\n",
              "  <tbody>\n",
              "    <tr>\n",
              "      <th>0</th>\n",
              "      <td>2001-06-04</td>\n",
              "      <td>¿Qué fecha fue publicada la Ley de Fondos de I...</td>\n",
              "      <td>El 4 de junio de 2001.</td>\n",
              "      <td>Fondos de Inversión</td>\n",
              "    </tr>\n",
              "    <tr>\n",
              "      <th>1</th>\n",
              "      <td>2001-06-04</td>\n",
              "      <td>¿Qué regula la Ley de Fondos de Inversión?</td>\n",
              "      <td>Regula la organización y funcionamiento de los...</td>\n",
              "      <td>Fondos de Inversión</td>\n",
              "    </tr>\n",
              "    <tr>\n",
              "      <th>2</th>\n",
              "      <td>2001-06-04</td>\n",
              "      <td>¿Qué debe fomentar la aplicación de esta ley?</td>\n",
              "      <td>El desarrollo equilibrado y la diversificación...</td>\n",
              "      <td>Fondos de Inversión</td>\n",
              "    </tr>\n",
              "    <tr>\n",
              "      <th>3</th>\n",
              "      <td>2001-06-04</td>\n",
              "      <td>¿Qué es un activo objeto de inversión?</td>\n",
              "      <td>Son valores títulos y documentos aplicables al...</td>\n",
              "      <td>Fondos de Inversión</td>\n",
              "    </tr>\n",
              "    <tr>\n",
              "      <th>4</th>\n",
              "      <td>2001-06-04</td>\n",
              "      <td>¿Quién regula los fondos de inversión en México?</td>\n",
              "      <td>La Comisión Nacional Bancaria y de Valores.</td>\n",
              "      <td>Fondos de Inversión</td>\n",
              "    </tr>\n",
              "  </tbody>\n",
              "</table>\n",
              "</div>\n",
              "    <div class=\"colab-df-buttons\">\n",
              "\n",
              "  <div class=\"colab-df-container\">\n",
              "    <button class=\"colab-df-convert\" onclick=\"convertToInteractive('df-5dce895f-b3ef-4b56-aa25-7f058e1e014e')\"\n",
              "            title=\"Convert this dataframe to an interactive table.\"\n",
              "            style=\"display:none;\">\n",
              "\n",
              "  <svg xmlns=\"http://www.w3.org/2000/svg\" height=\"24px\" viewBox=\"0 -960 960 960\">\n",
              "    <path d=\"M120-120v-720h720v720H120Zm60-500h600v-160H180v160Zm220 220h160v-160H400v160Zm0 220h160v-160H400v160ZM180-400h160v-160H180v160Zm440 0h160v-160H620v160ZM180-180h160v-160H180v160Zm440 0h160v-160H620v160Z\"/>\n",
              "  </svg>\n",
              "    </button>\n",
              "\n",
              "  <style>\n",
              "    .colab-df-container {\n",
              "      display:flex;\n",
              "      gap: 12px;\n",
              "    }\n",
              "\n",
              "    .colab-df-convert {\n",
              "      background-color: #E8F0FE;\n",
              "      border: none;\n",
              "      border-radius: 50%;\n",
              "      cursor: pointer;\n",
              "      display: none;\n",
              "      fill: #1967D2;\n",
              "      height: 32px;\n",
              "      padding: 0 0 0 0;\n",
              "      width: 32px;\n",
              "    }\n",
              "\n",
              "    .colab-df-convert:hover {\n",
              "      background-color: #E2EBFA;\n",
              "      box-shadow: 0px 1px 2px rgba(60, 64, 67, 0.3), 0px 1px 3px 1px rgba(60, 64, 67, 0.15);\n",
              "      fill: #174EA6;\n",
              "    }\n",
              "\n",
              "    .colab-df-buttons div {\n",
              "      margin-bottom: 4px;\n",
              "    }\n",
              "\n",
              "    [theme=dark] .colab-df-convert {\n",
              "      background-color: #3B4455;\n",
              "      fill: #D2E3FC;\n",
              "    }\n",
              "\n",
              "    [theme=dark] .colab-df-convert:hover {\n",
              "      background-color: #434B5C;\n",
              "      box-shadow: 0px 1px 3px 1px rgba(0, 0, 0, 0.15);\n",
              "      filter: drop-shadow(0px 1px 2px rgba(0, 0, 0, 0.3));\n",
              "      fill: #FFFFFF;\n",
              "    }\n",
              "  </style>\n",
              "\n",
              "    <script>\n",
              "      const buttonEl =\n",
              "        document.querySelector('#df-5dce895f-b3ef-4b56-aa25-7f058e1e014e button.colab-df-convert');\n",
              "      buttonEl.style.display =\n",
              "        google.colab.kernel.accessAllowed ? 'block' : 'none';\n",
              "\n",
              "      async function convertToInteractive(key) {\n",
              "        const element = document.querySelector('#df-5dce895f-b3ef-4b56-aa25-7f058e1e014e');\n",
              "        const dataTable =\n",
              "          await google.colab.kernel.invokeFunction('convertToInteractive',\n",
              "                                                    [key], {});\n",
              "        if (!dataTable) return;\n",
              "\n",
              "        const docLinkHtml = 'Like what you see? Visit the ' +\n",
              "          '<a target=\"_blank\" href=https://colab.research.google.com/notebooks/data_table.ipynb>data table notebook</a>'\n",
              "          + ' to learn more about interactive tables.';\n",
              "        element.innerHTML = '';\n",
              "        dataTable['output_type'] = 'display_data';\n",
              "        await google.colab.output.renderOutput(dataTable, element);\n",
              "        const docLink = document.createElement('div');\n",
              "        docLink.innerHTML = docLinkHtml;\n",
              "        element.appendChild(docLink);\n",
              "      }\n",
              "    </script>\n",
              "  </div>\n",
              "\n",
              "\n",
              "<div id=\"df-4f6dd9ac-7f54-4c0d-96ab-01720b383e32\">\n",
              "  <button class=\"colab-df-quickchart\" onclick=\"quickchart('df-4f6dd9ac-7f54-4c0d-96ab-01720b383e32')\"\n",
              "            title=\"Suggest charts\"\n",
              "            style=\"display:none;\">\n",
              "\n",
              "<svg xmlns=\"http://www.w3.org/2000/svg\" height=\"24px\"viewBox=\"0 0 24 24\"\n",
              "     width=\"24px\">\n",
              "    <g>\n",
              "        <path d=\"M19 3H5c-1.1 0-2 .9-2 2v14c0 1.1.9 2 2 2h14c1.1 0 2-.9 2-2V5c0-1.1-.9-2-2-2zM9 17H7v-7h2v7zm4 0h-2V7h2v10zm4 0h-2v-4h2v4z\"/>\n",
              "    </g>\n",
              "</svg>\n",
              "  </button>\n",
              "\n",
              "<style>\n",
              "  .colab-df-quickchart {\n",
              "      --bg-color: #E8F0FE;\n",
              "      --fill-color: #1967D2;\n",
              "      --hover-bg-color: #E2EBFA;\n",
              "      --hover-fill-color: #174EA6;\n",
              "      --disabled-fill-color: #AAA;\n",
              "      --disabled-bg-color: #DDD;\n",
              "  }\n",
              "\n",
              "  [theme=dark] .colab-df-quickchart {\n",
              "      --bg-color: #3B4455;\n",
              "      --fill-color: #D2E3FC;\n",
              "      --hover-bg-color: #434B5C;\n",
              "      --hover-fill-color: #FFFFFF;\n",
              "      --disabled-bg-color: #3B4455;\n",
              "      --disabled-fill-color: #666;\n",
              "  }\n",
              "\n",
              "  .colab-df-quickchart {\n",
              "    background-color: var(--bg-color);\n",
              "    border: none;\n",
              "    border-radius: 50%;\n",
              "    cursor: pointer;\n",
              "    display: none;\n",
              "    fill: var(--fill-color);\n",
              "    height: 32px;\n",
              "    padding: 0;\n",
              "    width: 32px;\n",
              "  }\n",
              "\n",
              "  .colab-df-quickchart:hover {\n",
              "    background-color: var(--hover-bg-color);\n",
              "    box-shadow: 0 1px 2px rgba(60, 64, 67, 0.3), 0 1px 3px 1px rgba(60, 64, 67, 0.15);\n",
              "    fill: var(--button-hover-fill-color);\n",
              "  }\n",
              "\n",
              "  .colab-df-quickchart-complete:disabled,\n",
              "  .colab-df-quickchart-complete:disabled:hover {\n",
              "    background-color: var(--disabled-bg-color);\n",
              "    fill: var(--disabled-fill-color);\n",
              "    box-shadow: none;\n",
              "  }\n",
              "\n",
              "  .colab-df-spinner {\n",
              "    border: 2px solid var(--fill-color);\n",
              "    border-color: transparent;\n",
              "    border-bottom-color: var(--fill-color);\n",
              "    animation:\n",
              "      spin 1s steps(1) infinite;\n",
              "  }\n",
              "\n",
              "  @keyframes spin {\n",
              "    0% {\n",
              "      border-color: transparent;\n",
              "      border-bottom-color: var(--fill-color);\n",
              "      border-left-color: var(--fill-color);\n",
              "    }\n",
              "    20% {\n",
              "      border-color: transparent;\n",
              "      border-left-color: var(--fill-color);\n",
              "      border-top-color: var(--fill-color);\n",
              "    }\n",
              "    30% {\n",
              "      border-color: transparent;\n",
              "      border-left-color: var(--fill-color);\n",
              "      border-top-color: var(--fill-color);\n",
              "      border-right-color: var(--fill-color);\n",
              "    }\n",
              "    40% {\n",
              "      border-color: transparent;\n",
              "      border-right-color: var(--fill-color);\n",
              "      border-top-color: var(--fill-color);\n",
              "    }\n",
              "    60% {\n",
              "      border-color: transparent;\n",
              "      border-right-color: var(--fill-color);\n",
              "    }\n",
              "    80% {\n",
              "      border-color: transparent;\n",
              "      border-right-color: var(--fill-color);\n",
              "      border-bottom-color: var(--fill-color);\n",
              "    }\n",
              "    90% {\n",
              "      border-color: transparent;\n",
              "      border-bottom-color: var(--fill-color);\n",
              "    }\n",
              "  }\n",
              "</style>\n",
              "\n",
              "  <script>\n",
              "    async function quickchart(key) {\n",
              "      const quickchartButtonEl =\n",
              "        document.querySelector('#' + key + ' button');\n",
              "      quickchartButtonEl.disabled = true;  // To prevent multiple clicks.\n",
              "      quickchartButtonEl.classList.add('colab-df-spinner');\n",
              "      try {\n",
              "        const charts = await google.colab.kernel.invokeFunction(\n",
              "            'suggestCharts', [key], {});\n",
              "      } catch (error) {\n",
              "        console.error('Error during call to suggestCharts:', error);\n",
              "      }\n",
              "      quickchartButtonEl.classList.remove('colab-df-spinner');\n",
              "      quickchartButtonEl.classList.add('colab-df-quickchart-complete');\n",
              "    }\n",
              "    (() => {\n",
              "      let quickchartButtonEl =\n",
              "        document.querySelector('#df-4f6dd9ac-7f54-4c0d-96ab-01720b383e32 button');\n",
              "      quickchartButtonEl.style.display =\n",
              "        google.colab.kernel.accessAllowed ? 'block' : 'none';\n",
              "    })();\n",
              "  </script>\n",
              "</div>\n",
              "\n",
              "    </div>\n",
              "  </div>\n"
            ],
            "application/vnd.google.colaboratory.intrinsic+json": {
              "type": "dataframe",
              "variable_name": "df",
              "summary": "{\n  \"name\": \"df\",\n  \"rows\": 1143,\n  \"fields\": [\n    {\n      \"column\": \"date\",\n      \"properties\": {\n        \"dtype\": \"date\",\n        \"min\": \"1990-07-18 00:00:00\",\n        \"max\": \"2024-01-24 00:00:00\",\n        \"num_unique_values\": 10,\n        \"samples\": [\n          \"2005-12-30 00:00:00\",\n          \"1990-07-18 00:00:00\",\n          \"2012-10-17 00:00:00\"\n        ],\n        \"semantic_type\": \"\",\n        \"description\": \"\"\n      }\n    },\n    {\n      \"column\": \"question\",\n      \"properties\": {\n        \"dtype\": \"string\",\n        \"num_unique_values\": 1133,\n        \"samples\": [\n          \"\\u00bfQu\\u00e9 penalizaciones existen por difundir informaci\\u00f3n falsa en el mercado?\",\n          \"\\u00bfQu\\u00e9 sucede si un intermediario burs\\u00e1til facilita operaciones no autorizadas o ilegales?\",\n          \"\\u00bfQu\\u00e9 debe incluir el plan de funcionamiento de una instituci\\u00f3n de banca m\\u00faltiple?\"\n        ],\n        \"semantic_type\": \"\",\n        \"description\": \"\"\n      }\n    },\n    {\n      \"column\": \"answer\",\n      \"properties\": {\n        \"dtype\": \"string\",\n        \"num_unique_values\": 1130,\n        \"samples\": [\n          \"No pueden participar salvo que sea por medidas prudenciales temporales o a trav\\u00e9s de personas morales oficiales bajo ciertas condiciones.\",\n          \"La CNBV puede sancionar a la empresa y la falta de notificaci\\u00f3n puede generar incertidumbre entre los inversionistas afectando el precio de sus acciones.\",\n          \"Las sociedades an\\u00f3nimas que cumplen con los requisitos de la Ley del Mercado de Valores.\"\n        ],\n        \"semantic_type\": \"\",\n        \"description\": \"\"\n      }\n    },\n    {\n      \"column\": \"category\",\n      \"properties\": {\n        \"dtype\": \"category\",\n        \"num_unique_values\": 11,\n        \"samples\": [\n          \"Prevenci\\u00f3n e Identificaci\\u00f3n de Operaciones con Recursos de Procedencia Il\\u00edcita\",\n          \"Fondos de Inversi\\u00f3n\",\n          \"Mercado de Valores\"\n        ],\n        \"semantic_type\": \"\",\n        \"description\": \"\"\n      }\n    }\n  ]\n}"
            }
          },
          "metadata": {},
          "execution_count": 2
        }
      ]
    },
    {
      "cell_type": "code",
      "source": [
        "# Cambiar a tipo de fecha\n",
        "df['date'] = pd.to_datetime(df['date'], format = '%Y-%m-%d').dt.strftime('%Y-%m-%d')"
      ],
      "metadata": {
        "id": "lbZtzlJEqEbm"
      },
      "execution_count": 3,
      "outputs": []
    },
    {
      "cell_type": "markdown",
      "source": [
        "### II. Construcción"
      ],
      "metadata": {
        "id": "P0vClAUsqrbH"
      }
    },
    {
      "cell_type": "markdown",
      "source": [
        "### III. Normalización"
      ],
      "metadata": {
        "id": "BqUK6U0mqwu9"
      }
    },
    {
      "cell_type": "markdown",
      "source": [
        "### IV. Selección / Extracción"
      ],
      "metadata": {
        "id": "eWAOxWWqq5e9"
      }
    },
    {
      "cell_type": "markdown",
      "source": [
        "### V. Conclusiones"
      ],
      "metadata": {
        "id": "-01GkWZkrHQc"
      }
    }
  ]
}